{
  "nbformat": 4,
  "nbformat_minor": 0,
  "metadata": {
    "colab": {
      "provenance": [],
      "collapsed_sections": []
    },
    "kernelspec": {
      "name": "python3",
      "display_name": "Python 3"
    },
    "language_info": {
      "name": "python"
    }
  },
  "cells": [
    {
      "cell_type": "code",
      "execution_count": 1,
      "metadata": {
        "colab": {
          "base_uri": "https://localhost:8080/"
        },
        "id": "yf1Jivzt_RCd",
        "outputId": "5d74e51c-1a53-4a2e-f9c6-378e51c5cabb"
      },
      "outputs": [
        {
          "output_type": "stream",
          "name": "stdout",
          "text": [
            "Drive already mounted at /content/drive; to attempt to forcibly remount, call drive.mount(\"/content/drive\", force_remount=True).\n",
            "/content/drive/MyDrive/CorpusforDDL_compute\n"
          ]
        }
      ],
      "source": [
        "from google.colab import drive\n",
        "drive.mount('/content/drive')\n",
        "\n",
        "import os\n",
        "os.chdir('/content/drive/MyDrive/CorpusforDDL_compute')\n",
        "print(os.getcwd())"
      ]
    },
    {
      "cell_type": "code",
      "source": [
        "import pandas as pd\n",
        "import re"
      ],
      "metadata": {
        "id": "e35PUCKJ_b0l"
      },
      "execution_count": 2,
      "outputs": []
    },
    {
      "cell_type": "markdown",
      "source": [
        "# 國語日報新聞"
      ],
      "metadata": {
        "id": "8Ac1rV2w_n9l"
      }
    },
    {
      "cell_type": "code",
      "source": [
        "# 讀入國語日報新聞 txt 檔\n",
        "mandarin_daily_path = 'CorpusforDDL/國語日報新聞/MandarinDailyNews-20181217'\n",
        "all_files = os.listdir(mandarin_daily_path)\n",
        "\n",
        "mandarin_daily_corpus = []\n",
        "for f in all_files:\n",
        "  with open(f'{mandarin_daily_path}/{f}') as f:\n",
        "      lines = f.readlines()\n",
        "      mandarin_daily_corpus.append(lines)"
      ],
      "metadata": {
        "id": "JRZKK5OA_kxO"
      },
      "execution_count": 3,
      "outputs": []
    },
    {
      "cell_type": "code",
      "source": [
        "# 前處理\n",
        "def preprocess_mandarin_daily(string):\n",
        "\n",
        "  url = r'(www|http|ftp|https)://([\\w_-]+(?:(?:\\.[\\w_-]+)+))([\\w.,@?^=%&:/~+#-]*[\\w@?^=%&/~+#-])?'\n",
        "\n",
        "  clean_string = re.sub(url, '', string) # 移除 url\n",
        "  clean_string = re.sub('[\\n△◎]', '', clean_string) # 移除換行符號和△◎符號\n",
        "  clean_string = re.sub(\"【\\w+】\", \"\", clean_string) # 移除【記者xxx報導】\n",
        "  splitted_strings = re.split(r'(?<=[。！？])', clean_string) # 將長句子用。！？斷開\n",
        "  splitted_strings = [x for x in splitted_strings if len(x)>1] # 濾掉空字串和只有一個標點符號的字串\n",
        "\n",
        "  return splitted_strings"
      ],
      "metadata": {
        "id": "fIsg5Eu4LVWl"
      },
      "execution_count": 4,
      "outputs": []
    },
    {
      "cell_type": "code",
      "source": [
        "test = \"\"\"\n",
        "【記者楊惠芳報導】\n",
        "△小說家徐薏藍每年固定出兩本書之外，還在春秋兩季，\n",
        "◎邀約文友，組成旅行團，周遊列國，觀賞世界各地美景。\n",
        "今年開春後，她準備率團去帛琉，一窺海底祕密。目前報名的有五對夫婦及六位文友。\n",
        "欲參加文友請早報名，以免向隅。\n",
        "http://www.lttc.ntu.edu.tw。\n",
        "\"\"\"\n",
        "\n",
        "print(preprocess_mandarin_daily(test))"
      ],
      "metadata": {
        "colab": {
          "base_uri": "https://localhost:8080/"
        },
        "id": "3Yu6brWLN3Ug",
        "outputId": "90d3d537-5047-4a2f-e880-6cc5f7c5950a"
      },
      "execution_count": 5,
      "outputs": [
        {
          "output_type": "stream",
          "name": "stdout",
          "text": [
            "['小說家徐薏藍每年固定出兩本書之外，還在春秋兩季，邀約文友，組成旅行團，周遊列國，觀賞世界各地美景。', '今年開春後，她準備率團去帛琉，一窺海底祕密。', '目前報名的有五對夫婦及六位文友。', '欲參加文友請早報名，以免向隅。']\n"
          ]
        }
      ]
    },
    {
      "cell_type": "code",
      "source": [
        "mandarin_daily_corpus_preprocessed = []\n",
        "\n",
        "for text in mandarin_daily_corpus:\n",
        "  text_preprocessed = []\n",
        "  for string in text:\n",
        "    check_punctuation = re.search(r'[，。！？]', string) # 檢查字串是否包含，。！？\n",
        "    check_chinese = re.search(r'[\\u4e00-\\u9fff]+', string) # 檢查字串是否包含中文字\n",
        "\n",
        "    if check_punctuation and check_chinese:\n",
        "      preprocessed = preprocess_mandarin_daily(string)\n",
        "      text_preprocessed.append(preprocessed)\n",
        "  mandarin_daily_corpus_preprocessed.append(text_preprocessed)"
      ],
      "metadata": {
        "id": "eI25xPVyGNBG"
      },
      "execution_count": 6,
      "outputs": []
    },
    {
      "cell_type": "code",
      "source": [
        "mandarin_daily_corpus_preprocessed[0][:5]"
      ],
      "metadata": {
        "colab": {
          "base_uri": "https://localhost:8080/"
        },
        "id": "7qU6yL62jD9p",
        "outputId": "6d1c6c82-ee39-4c34-f815-44d9832f6274"
      },
      "execution_count": 8,
      "outputs": [
        {
          "output_type": "execute_result",
          "data": {
            "text/plain": [
              "[['今天是中華民國九十年元旦，也是二十一世紀的第一天，陳水扁總統發表跨世紀談話，並且向全民祝賀新年。',\n",
              "  '陳總統表示，過去政府的「戒急用忍」政策有當時的背景及其必要，但是未來政府將以「積極開放，有效管理」的新視野，規畫我們的新世紀經貿版圖。'],\n",
              " ['陳總統指出，二十一世紀，經濟競爭力依然是我們賴以生存的命脈。',\n",
              "  '面對全球景氣循環的低潮以及包括美國、日本等國家經濟成長的向下修正，臺灣地區的經濟繁榮將再次面臨高難度的考驗，政府與民間要為最壞的可能做最好的準備。'],\n",
              " ['另外，因應我們即將加入世界貿易組織，陳總統說，政府有責任面對全新的經濟情勢，將包括兩岸經貿在內的各項課題，重新納入全球市場的考量。',\n",
              "  '他說，在過去的「戒急用忍」之外，未來我們將以「積極開放，有效管理」的新視野，在知識經濟的既定方針之下，為新世紀經貿版圖做出宏觀的規畫，並且逐步加以落實。'],\n",
              " ['陳水扁總統說，面對過去半年多以來的政經情勢，國人應該都能深刻的體會，有穩定的政局才有經濟的繁榮，有穩定的政局也才有改革和進步。'],\n",
              " ['在兩岸問題方面，陳總統強調，依據中華民國憲法，「一個中國」原本並不是問題，也希望對岸能夠深入了解臺灣地區人民心中的疑慮在哪裡，尊重兩千三百多萬人民的意志。']]"
            ]
          },
          "metadata": {},
          "execution_count": 8
        }
      ]
    },
    {
      "cell_type": "code",
      "source": [
        "len(mandarin_daily_corpus) == len(mandarin_daily_corpus_preprocessed)"
      ],
      "metadata": {
        "colab": {
          "base_uri": "https://localhost:8080/"
        },
        "id": "RT_Hj5SIE9AU",
        "outputId": "93e665f5-8928-405b-deed-0baf7a9bc0fa"
      },
      "execution_count": 88,
      "outputs": [
        {
          "output_type": "execute_result",
          "data": {
            "text/plain": [
              "True"
            ]
          },
          "metadata": {},
          "execution_count": 88
        }
      ]
    },
    {
      "cell_type": "markdown",
      "source": [
        "# ASBC"
      ],
      "metadata": {
        "id": "sKi5SQIN56yD"
      }
    },
    {
      "cell_type": "code",
      "source": [
        "# 讀入 ASBC txt 檔\n",
        "asbc_path = 'CorpusforDDL/ASBC_去XML標記'\n",
        "all_files = os.listdir(asbc_path)\n",
        "\n",
        "asbc_corpus = []\n",
        "for f in all_files:\n",
        "  with open(f'{asbc_path}/{f}') as f:\n",
        "      lines = f.readlines()\n",
        "      asbc_corpus.append(lines)"
      ],
      "metadata": {
        "id": "z5iu05Loq_zB"
      },
      "execution_count": 9,
      "outputs": []
    },
    {
      "cell_type": "code",
      "source": [
        "# 前處理\n",
        "import unicodedata\n",
        "def preprocess_asbc(string):\n",
        "\n",
        "  clean_string = unicodedata.normalize('NFKC', string) # 全形轉半形\n",
        "  clean_string = re.sub(r'\\n', '', clean_string) # 移除換行符號\n",
        "\n",
        "  clean_string = clean_string.translate(str.maketrans({',': '，', \n",
        "                                                       '!': '！', \n",
        "                                                       '?': '？'})) # ，！？改回全形\n",
        "  return clean_string"
      ],
      "metadata": {
        "id": "_Gf0h3Nx-buo"
      },
      "execution_count": 52,
      "outputs": []
    },
    {
      "cell_type": "code",
      "source": [
        "asbc_corpus_preprocessed = []\n",
        "for text in asbc_corpus:\n",
        "  text_preprocessed = []\n",
        "  for string in text:\n",
        "    preprocessed = preprocess_asbc(string)\n",
        "    joined = ''.join(preprocessed) # 將所有字串合成一長串\n",
        "    splitted = re.split(r'(?<=[。！？])', joined) # 將長句子用。！？斷開\n",
        "    text_preprocessed.append(splitted)\n",
        "  asbc_corpus_preprocessed.append(text_preprocessed)"
      ],
      "metadata": {
        "id": "Y6QGMKFvBHZw"
      },
      "execution_count": 60,
      "outputs": []
    },
    {
      "cell_type": "code",
      "source": [
        "asbc_corpus_preprocessed = []\n",
        "\n",
        "for text in asbc_corpus:\n",
        "  preprocessed = [preprocess_asbc(string) for string in test]\n",
        "  joined = ''.join(preprocessed)\n",
        "  splitted = re.split(r'(?<=[。！？])', joined)\n",
        "  asbc_corpus_preprocessed.append(splitted)"
      ],
      "metadata": {
        "id": "SeiHwTjcFZVG"
      },
      "execution_count": 92,
      "outputs": []
    },
    {
      "cell_type": "code",
      "source": [
        "asbc_corpus_preprocessed[0][:5]"
      ],
      "metadata": {
        "colab": {
          "base_uri": "https://localhost:8080/"
        },
        "id": "B6XCXtvCB1Fb",
        "outputId": "0dcd279c-bb20-4f9d-fa3a-96420f84ae8e"
      },
      "execution_count": 93,
      "outputs": [
        {
          "output_type": "execute_result",
          "data": {
            "text/plain": [
              "['碰到(VC) 這(Nep) 種(Nf) 情形(Na) ，(COMMACATEGORY)真(D) 是(SHI) 會(D) 令(VL) 人(Na) 又(Caa) 氣憤(VH) 又(Caa) 苦惱(VH) 。',\n",
              " '(PERIODCATEGORY)相信(VK) 大多數(Neqa) 的(DE) 母親(Na) 也(D) 都(D) 有(V_2) 過(Di) 類似(VG) 的(DE) 困擾(Na) ，(COMMACATEGORY)因為(Cbb) 我們(Nh) 的(DE) 生活(Na) 環境(Na) 逐漸(D) 被(P) 色情(Na) 電影(Na) 、(PAUSECATEGORY) 錄影帶(Na) 、(PAUSECATEGORY) 畫片(Na) 、(PAUSECATEGORY) 書刊(Na) 所(D) 污染(VC) 。',\n",
              " '(PERIODCATEGORY)尤其(D) 在(P) 「(PARENTHESISCATEGORY) 笑(VC) 貧(VH) 不(D) 笑(VA) 娼(Na) 」(PARENTHESISCATEGORY) 的(DE) 社會(Na) 風氣(Na) 裡(Ng) ，(COMMACATEGORY)有(V_2) 些(Nf) 唯利是圖(VH) 的(DE) 不法(A) 商人(Na) ，(COMMACATEGORY)更(D) 是(SHI) 以(P) 誇張(VHC) 的(DE) 色情(Na) 表演(Na) 和(Caa) 刺激(VH) 的(DE) 畫面(Na) 來(D) 招攬(VC) 生意(Na) 。',\n",
              " '(PERIODCATEGORY)要(D) 我們(Nh) 這些(Neqa) 做(VG) 父母(Na) 的(DE) 完全(D) 禁止(VE) 孩子(Na) 們(Na) 去(D) 接觸(VC) ，(COMMACATEGORY)可(D) 真(D) 是(SHI) 防不勝防(VH) 。',\n",
              " '(PERIODCATEGORY)縱使(Cbb) 你(Nh) 的(DE) 孩子(Na) 現在(Nd) 沒(D) 看(VC) 過(Di) ，(COMMACATEGORY)以後(Nd) 他(Nh) 同樣(VH) 會(D) 有(V_2) 機會(Na) 接觸(VC) ，(COMMACATEGORY)所以(Cbb) ，(COMMACATEGORY)我們(Nh) 要(D) 做(VC) 的(DE) 並(D) 不(D) 是(SHI) 彌補(VC) 的(DE) 工作(Na) ，(COMMACATEGORY)而是(Cbb) 如何(D) 「(PARENTHESISCATEGORY) 正視(VC) 」(PARENTHESISCATEGORY) 地(DE) 處理(VC) 。']"
            ]
          },
          "metadata": {},
          "execution_count": 93
        }
      ]
    },
    {
      "cell_type": "code",
      "source": [
        "len(asbc_corpus) == len(asbc_corpus_preprocessed)"
      ],
      "metadata": {
        "colab": {
          "base_uri": "https://localhost:8080/"
        },
        "id": "jccynvQUEv4I",
        "outputId": "7b1f3cac-b2df-4ef9-c6bc-796256a12912"
      },
      "execution_count": 94,
      "outputs": [
        {
          "output_type": "execute_result",
          "data": {
            "text/plain": [
              "True"
            ]
          },
          "metadata": {},
          "execution_count": 94
        }
      ]
    },
    {
      "cell_type": "markdown",
      "source": [
        "# EDsplit"
      ],
      "metadata": {
        "id": "5sjCH8GDF3rr"
      }
    },
    {
      "cell_type": "code",
      "source": [
        "# # 讀入 EDsplit txt 檔\n",
        "# edsplit_path = 'CorpusforDDL/EDsplit-1File1Days-DeleteRepeatPattern-TitleWithoutPeriod-out'\n",
        "# all_files = os.listdir(edsplit_path)\n",
        "\n",
        "# edsplit_corpus = []\n",
        "# for f in all_files:\n",
        "#   with open(f'{edsplit_path}/{f}', encoding= 'unicode_escape') as f:\n",
        "#       lines = f.readlines()\n",
        "#       edsplit_corpus.append(lines)"
      ],
      "metadata": {
        "id": "7-7qW9kQDMyt"
      },
      "execution_count": 99,
      "outputs": []
    },
    {
      "cell_type": "code",
      "source": [],
      "metadata": {
        "id": "ubMWLWLFGLah"
      },
      "execution_count": null,
      "outputs": []
    }
  ]
}