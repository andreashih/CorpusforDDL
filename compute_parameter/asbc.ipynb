{
  "nbformat": 4,
  "nbformat_minor": 2,
  "metadata": {
    "colab": {
      "provenance": []
    },
    "kernelspec": {
      "name": "python3",
      "display_name": "Python 3"
    },
    "language_info": {
      "name": "python"
    }
  },
  "cells": [
    {
      "cell_type": "code",
      "execution_count": null,
      "source": [
        "import pandas as pd\n",
        "import re\n",
        "import unicodedata\n",
        "import pickle\n",
        "from collections import Counter"
      ],
      "outputs": [],
      "metadata": {
        "id": "NyKR_qdoJ2Gy"
      }
    },
    {
      "cell_type": "code",
      "execution_count": null,
      "source": [
        "import os\n",
        "print(os.getcwd())"
      ],
      "outputs": [],
      "metadata": {}
    },
    {
      "cell_type": "code",
      "execution_count": null,
      "source": [
        "# 載入事先寫好的 functions\n",
        "from compute_parameters import *"
      ],
      "outputs": [],
      "metadata": {
        "id": "yoOkHW-9TKAH"
      }
    },
    {
      "cell_type": "code",
      "execution_count": null,
      "source": [
        "class Corpus():\n",
        "  def __init__(self, ws, ws_pos, text):\n",
        "    self.ws = ws\n",
        "    self.ws_pos = ws_pos\n",
        "    self.text = text\n",
        "  \n",
        "  def sentence_length(self):\n",
        "    sentence_length = []\n",
        "    for text in self.ws:\n",
        "      length = [len(sentence) for sentence in text]\n",
        "      sentence_length.append(length)\n",
        "    return sentence_length\n",
        "  \n",
        "  def high_low_freq(self):\n",
        "    high_low_freq = []\n",
        "    for text in self.ws:\n",
        "      freq = [get_high_low_freq(sentence) for sentence in text]\n",
        "      high_low_freq.append(freq)\n",
        "    return high_low_freq\n",
        "  \n",
        "  def word_freq(self):\n",
        "    word_freq = []\n",
        "    for text in self.ws:\n",
        "      freq = [get_word_freq(sentence) for sentence in text]\n",
        "      word_freq.append(freq)\n",
        "    return word_freq\n",
        "  \n",
        "  def word_level(self):\n",
        "    word_level = []\n",
        "    for text in self.ws:\n",
        "      level = [get_word_level(sentence) for sentence in text]\n",
        "      word_level.append(level)\n",
        "    return word_level\n",
        "  \n",
        "  def long_word_count(self):\n",
        "    long_word_count = []\n",
        "    for text in self.ws:\n",
        "      count = [get_long_word_count(sentence) for sentence in text]\n",
        "      long_word_count.append(count)\n",
        "    return long_word_count\n",
        "  \n",
        "  def is_complete_sentence(self):\n",
        "    is_complete_sentence = []\n",
        "    for text in self.ws_pos:\n",
        "      sent = [get_complete_sentence(sentence) for sentence in text]\n",
        "      is_complete_sentence.append(sent)\n",
        "    return is_complete_sentence\n",
        "  \n",
        "  def is_complete_context(self):\n",
        "    is_complete_context = []\n",
        "    for text in self.ws_pos:\n",
        "      sent = [get_complete_context(sentence) for sentence in text]\n",
        "      is_complete_context.append(sent)\n",
        "    return is_complete_context\n",
        "  \n",
        "  def is_greylist(self):\n",
        "    is_greylist = []\n",
        "    for text in self.ws_pos:\n",
        "      gl = [get_greylist(x) for x in text]\n",
        "      is_greylist.append(gl)\n",
        "    return is_greylist\n",
        "  \n",
        "  def is_blacklist(self):\n",
        "    is_blacklist = []\n",
        "    for text in self.text:\n",
        "      bl = [get_blacklist(x) for x in text]\n",
        "      is_blacklist.append(bl)\n",
        "    return is_blacklist"
      ],
      "outputs": [],
      "metadata": {
        "id": "GBcSkp3Tlw3a"
      }
    },
    {
      "cell_type": "code",
      "execution_count": null,
      "source": [
        "from nltk.text import Text\n",
        "def make_concordance_df(target_words, ws):\n",
        "\n",
        "  corpus = [item for sublist in ws for item in sublist]\n",
        "  text = Text(corpus)\n",
        "  dfs = []\n",
        "\n",
        "  for word in target_words:\n",
        "\n",
        "    con_list = text.concordance_list(word)\n",
        "    right_word = [x.right[0] for x in con_list]\n",
        "    left_word = [x.left[-1] for x in con_list]\n",
        "    context = [x.left + [word] + x.right for x in con_list]\n",
        "    context = [' '.join(x) for x in context]\n",
        "\n",
        "    df = pd.DataFrame({'left_word': left_word,\n",
        "                      'target_word': word,\n",
        "                      'right_word': right_word,\n",
        "                      'context': context})\n",
        "    dfs.append(df)\n",
        "\n",
        "  return dfs"
      ],
      "outputs": [],
      "metadata": {
        "id": "CtiqI399vqik"
      }
    },
    {
      "cell_type": "markdown",
      "source": [
        "## ASBC"
      ],
      "metadata": {
        "id": "KpkoaJCnlsIP"
      }
    },
    {
      "cell_type": "code",
      "execution_count": null,
      "source": [
        "# 讀入 ASBC txt 檔\n",
        "asbc_path = '../corpora/ASBC_去XML標記'\n",
        "all_files = sorted(os.listdir(asbc_path))\n",
        "\n",
        "asbc_corpus = []\n",
        "for f in all_files:\n",
        "  with open(f'{asbc_path}/{f}') as f:\n",
        "      lines = f.readlines()\n",
        "      asbc_corpus.append(lines)"
      ],
      "outputs": [],
      "metadata": {
        "id": "TZiI9XC1Jurx"
      }
    },
    {
      "cell_type": "code",
      "execution_count": null,
      "source": [
        "# 前處理\n",
        "def preprocess_asbc(string):\n",
        "\n",
        "  clean_string = unicodedata.normalize('NFKC', string) # 全形轉半形\n",
        "  clean_string = re.sub(r'\\n', '', clean_string) # 移除換行符號\n",
        "  clean_string = re.sub(r'\\-+', '', clean_string) # 移除連續的 -\n",
        "  clean_string = re.sub(r'\\[\\+[A-z0-9]+\\]', '', clean_string) # 移除特徵標記\n",
        "  clean_string = re.sub(r'\\(\\w+CATEGORY\\)', '', clean_string) # 移除標點符號標記\n",
        "\n",
        "  clean_string = clean_string.translate(str.maketrans({',': '，', \n",
        "                                                       '!': '！', \n",
        "                                                       '?': '？',\n",
        "                                                       ':': '：',\n",
        "                                                       ';': '；'})) # 部分符號改回全形\n",
        "  return clean_string"
      ],
      "outputs": [],
      "metadata": {
        "id": "R6Zw83EdMWop"
      }
    },
    {
      "cell_type": "markdown",
      "source": [
        "### 語料格式準備 - 1\n",
        "斷詞 + pos tag"
      ],
      "metadata": {
        "id": "-1xGNb1buHdS"
      }
    },
    {
      "cell_type": "code",
      "execution_count": null,
      "source": [
        "asbc_ws_pos = []\n",
        "\n",
        "for text in asbc_corpus:\n",
        "  preprocessed = [preprocess_asbc(string) for string in text]\n",
        "  joined = ''.join(preprocessed)\n",
        "  split_1 = re.split(r'(?<=。」|！」|？」)', joined) # 先用 。」 ！」 ？」 分隔\n",
        "  split_2 = [re.split(r'(?<=[。！？])(?!」)', x) for x in split_1] # 再用 。！？ 分隔\n",
        "  split = [item for sublist in split_2 for item in sublist] # 將 list of list 攤平\n",
        "  split = [x for x in split if len(x)>1]\n",
        "\n",
        "  asbc_ws_pos.append(split)"
      ],
      "outputs": [],
      "metadata": {
        "id": "_1I0xgRLNpMG"
      }
    },
    {
      "cell_type": "code",
      "execution_count": null,
      "source": [
        "asbc_ws_pos[0][0]"
      ],
      "outputs": [
        {
          "output_type": "execute_result",
          "data": {
            "application/vnd.google.colaboratory.intrinsic+json": {
              "type": "string"
            },
            "text/plain": [
              "'\\ufeff時間(Na) ：三月(Nd) 十日(Nd) ( 星期四(Nd) ) 上午(Nd) 十時(Nd) 。'"
            ]
          },
          "metadata": {},
          "execution_count": 9
        }
      ],
      "metadata": {
        "colab": {
          "base_uri": "https://localhost:8080/",
          "height": 36
        },
        "id": "vt2ougcbNs-7",
        "outputId": "d573530c-5cb6-4062-b24b-c16926b91673"
      }
    },
    {
      "cell_type": "markdown",
      "source": [
        "### 語料格式準備 - 2\n",
        "斷好詞，無標點符號"
      ],
      "metadata": {
        "id": "mF8qf23CuP2J"
      }
    },
    {
      "cell_type": "code",
      "execution_count": null,
      "source": [
        "asbc_ws = []\n",
        "for text in asbc_ws_pos:\n",
        "  ws = []\n",
        "  for sent in text:\n",
        "    sent_words = re.sub(r'\\([A-z0-9]+\\)', '', sent)\n",
        "    sent_words = re.sub(r'[^\\w\\s]', '', sent_words).strip().split(' ')\n",
        "    sent_words = list(filter(None, sent_words))\n",
        "    ws.append(sent_words)\n",
        "  asbc_ws.append(ws)"
      ],
      "outputs": [],
      "metadata": {
        "id": "DMijYJOOl5C3"
      }
    },
    {
      "cell_type": "code",
      "execution_count": null,
      "source": [
        "asbc_ws[0][0]"
      ],
      "outputs": [
        {
          "output_type": "execute_result",
          "data": {
            "text/plain": [
              "['時間', '三月', '十日', '星期四', '上午', '十時']"
            ]
          },
          "metadata": {},
          "execution_count": 11
        }
      ],
      "metadata": {
        "colab": {
          "base_uri": "https://localhost:8080/"
        },
        "id": "eXlz5Kx4Wu0M",
        "outputId": "41cdae15-9d82-4e09-96b5-90c280ae1bfb"
      }
    },
    {
      "cell_type": "markdown",
      "source": [
        "### 語料格式準備 - 3\n",
        "完整句子，含標點符號"
      ],
      "metadata": {
        "id": "QVSjq17muTE3"
      }
    },
    {
      "cell_type": "code",
      "execution_count": null,
      "source": [
        "asbc_text = []\n",
        "\n",
        "for text in asbc_ws_pos:\n",
        "  t = []\n",
        "  for sent in text:\n",
        "    res = re.sub(r'\\([A-z0-9_]+\\)', '', sent)\n",
        "    res = res.replace(' ', '')\n",
        "    t.append(res)\n",
        "  asbc_text.append(t)"
      ],
      "outputs": [],
      "metadata": {
        "id": "R590l9VDXFL0"
      }
    },
    {
      "cell_type": "code",
      "execution_count": null,
      "source": [
        "asbc_text[0][0]"
      ],
      "outputs": [
        {
          "output_type": "execute_result",
          "data": {
            "application/vnd.google.colaboratory.intrinsic+json": {
              "type": "string"
            },
            "text/plain": [
              "'\\ufeff時間：三月十日(星期四)上午十時。'"
            ]
          },
          "metadata": {},
          "execution_count": 13
        }
      ],
      "metadata": {
        "colab": {
          "base_uri": "https://localhost:8080/",
          "height": 36
        },
        "id": "gjuCoLaXXbDN",
        "outputId": "8c9f1928-d741-4d95-d6c7-92ff0b4b5867"
      }
    },
    {
      "cell_type": "markdown",
      "source": [
        "### 計算指標"
      ],
      "metadata": {
        "id": "8GTFYfv3vfBU"
      }
    },
    {
      "cell_type": "code",
      "execution_count": null,
      "source": [
        "asbc_corpus = Corpus(asbc_ws, asbc_ws_pos, asbc_text)"
      ],
      "outputs": [],
      "metadata": {
        "id": "J0B85fZFQIaW"
      }
    },
    {
      "cell_type": "code",
      "execution_count": null,
      "source": [
        "asbc_sentence_length = asbc_corpus.sentence_length()\n",
        "asbc_high_low_freq = asbc_corpus.high_low_freq()\n",
        "asbc_word_freq = asbc_corpus.word_freq()\n",
        "asbc_word_level = asbc_corpus.word_level()\n",
        "asbc_long_word_count = asbc_corpus.long_word_count()\n",
        "asbc_is_complete_sentence = asbc_corpus.is_complete_sentence()\n",
        "asbc_is_complete_context = asbc_corpus.is_complete_context()\n",
        "asbc_is_greylist = asbc_corpus.is_greylist()\n",
        "asbc_is_blacklist = asbc_corpus.is_blacklist()"
      ],
      "outputs": [],
      "metadata": {
        "id": "J0arl51FYd3i"
      }
    },
    {
      "cell_type": "markdown",
      "source": [
        "### 製作表格"
      ],
      "metadata": {
        "id": "QAJ8V1SyvhRx"
      }
    },
    {
      "cell_type": "code",
      "execution_count": null,
      "source": [
        "asbc_dfs = []\n",
        "\n",
        "for text, ws, length, w_freq, hl_freq, level, count, complete_sent, complete_cont, bl, gl in zip(asbc_text, asbc_ws, \n",
        "                  asbc_sentence_length, asbc_word_freq, asbc_high_low_freq,\n",
        "                  asbc_word_level, asbc_long_word_count, asbc_is_complete_sentence, \n",
        "                  asbc_is_complete_context, asbc_is_blacklist, asbc_is_greylist):\n",
        "  \n",
        "  ws = [' '.join(sent) for sent in ws]\n",
        "  asbc_df = pd.DataFrame({'sentence': text,\n",
        "                        'sentence_preprocessed': ws,\n",
        "                        'sentence_length': length,\n",
        "                        'word_freq': w_freq,\n",
        "                        'high_low_freq': hl_freq,\n",
        "                        'word_level': level,\n",
        "                        'long_word_count': count,\n",
        "                        'is_complete_sentence': complete_sent,\n",
        "                        'is_complete_context': complete_cont,\n",
        "                        'is_blacklist': bl,\n",
        "                        'is_greylist': gl})\n",
        "  asbc_df = asbc_df[asbc_df['sentence_length']>0]\n",
        "  asbc_dfs.append(asbc_df)"
      ],
      "outputs": [],
      "metadata": {
        "id": "F2XnxKmvYGMj"
      }
    },
    {
      "cell_type": "code",
      "execution_count": null,
      "source": [
        "for filename, df in zip(all_files, asbc_dfs):\n",
        "  filename = re.sub('.txt', '', filename)\n",
        "  df.to_csv(f'../results/asbc/asbc_parameters/parameters_{filename}.csv', index = False)"
      ],
      "outputs": [],
      "metadata": {
        "id": "COgjcwEUwIaI"
      }
    },
    {
      "cell_type": "code",
      "execution_count": null,
      "source": [
        "target_words = ['難得', '畢竟', '的確', '難免', '總是', '有助於']\n",
        "\n",
        "asbc_concordance_dfs = []\n",
        "for text in asbc_ws:\n",
        "  dfs = make_concordance_df(target_words, text)\n",
        "  concordance_df = pd.concat(dfs)\n",
        "  asbc_concordance_dfs.append(concordance_df)"
      ],
      "outputs": [],
      "metadata": {
        "id": "YM1NxqDfER9m"
      }
    },
    {
      "cell_type": "code",
      "execution_count": null,
      "source": [
        "for filename, df in zip(all_files, asbc_concordance_dfs):\n",
        "  filename = re.sub('.txt', '', filename)\n",
        "  df.to_csv(f'../results/asbc/asbc_concordance_df/concordance_df_{filename}.csv', index = False)"
      ],
      "outputs": [],
      "metadata": {
        "id": "D4zqruYowObz"
      }
    }
  ]
}