{
  "nbformat": 4,
  "nbformat_minor": 2,
  "metadata": {
    "colab": {
      "provenance": []
    },
    "kernelspec": {
      "name": "python3",
      "display_name": "Python 3.9.10 64-bit"
    },
    "language_info": {
      "name": "python",
      "version": "3.9.10",
      "mimetype": "text/x-python",
      "codemirror_mode": {
        "name": "ipython",
        "version": 3
      },
      "pygments_lexer": "ipython3",
      "nbconvert_exporter": "python",
      "file_extension": ".py"
    },
    "interpreter": {
      "hash": "b0fa6594d8f4cbf19f97940f81e996739fb7646882a419484c72d19e05852a7e"
    }
  },
  "cells": [
    {
      "cell_type": "code",
      "execution_count": 1,
      "source": [
        "import os\n",
        "print(os.getcwd())"
      ],
      "outputs": [
        {
          "output_type": "stream",
          "name": "stdout",
          "text": [
            "/Users/andreashih/Desktop/compute_parameter/compute_parameter\n"
          ]
        }
      ],
      "metadata": {
        "colab": {
          "base_uri": "https://localhost:8080/"
        },
        "id": "Cozs-mhlJzVr",
        "outputId": "6a7f0f4d-301c-4a66-e016-590a133c100a"
      }
    },
    {
      "cell_type": "code",
      "execution_count": 2,
      "source": [
        "import pandas as pd\n",
        "import re\n",
        "import unicodedata\n",
        "from collections import Counter\n",
        "import xml.etree.ElementTree as ET"
      ],
      "outputs": [],
      "metadata": {
        "id": "NyKR_qdoJ2Gy"
      }
    },
    {
      "cell_type": "code",
      "execution_count": 3,
      "source": [
        "# 載入事先寫好的 functions\n",
        "from compute_parameters import *"
      ],
      "outputs": [],
      "metadata": {
        "id": "yoOkHW-9TKAH"
      }
    },
    {
      "cell_type": "code",
      "execution_count": 5,
      "source": [
        "class Corpus():\n",
        "  def __init__(self, ws, ws_pos, text):\n",
        "    self.ws = ws\n",
        "    self.ws_pos = ws_pos\n",
        "    self.text = text\n",
        "  \n",
        "  def sentence_length(self):\n",
        "    sentence_length = []\n",
        "    for text in self.ws:\n",
        "      length = [len(sentence) for sentence in text]\n",
        "      sentence_length.append(length)\n",
        "    return sentence_length\n",
        "  \n",
        "  def high_low_freq(self):\n",
        "    high_low_freq = []\n",
        "    for text in self.ws:\n",
        "      freq = [get_high_low_freq(sentence) for sentence in text]\n",
        "      high_low_freq.append(freq)\n",
        "    return high_low_freq\n",
        "  \n",
        "  def word_freq(self):\n",
        "    word_freq = []\n",
        "    for text in self.ws:\n",
        "      freq = [get_word_freq(sentence) for sentence in text]\n",
        "      word_freq.append(freq)\n",
        "    return word_freq\n",
        "  \n",
        "  def word_level(self):\n",
        "    word_level = []\n",
        "    for text in self.ws:\n",
        "      level = [get_word_level(sentence) for sentence in text]\n",
        "      word_level.append(level)\n",
        "    return word_level\n",
        "  \n",
        "  def long_word_count(self):\n",
        "    long_word_count = []\n",
        "    for text in self.ws:\n",
        "      count = [get_long_word_count(sentence) for sentence in text]\n",
        "      long_word_count.append(count)\n",
        "    return long_word_count\n",
        "  \n",
        "  def is_complete_sentence(self):\n",
        "    is_complete_sentence = []\n",
        "    for text in self.ws_pos:\n",
        "      sent = [get_complete_sentence(sentence) for sentence in text]\n",
        "      is_complete_sentence.append(sent)\n",
        "    return is_complete_sentence\n",
        "  \n",
        "  def is_complete_context(self):\n",
        "    is_complete_context = []\n",
        "    for text in self.ws_pos:\n",
        "      sent = [get_complete_context(sentence) for sentence in text]\n",
        "      is_complete_context.append(sent)\n",
        "    return is_complete_context\n",
        "  \n",
        "  def is_greylist(self):\n",
        "    is_greylist = []\n",
        "    for text in self.ws_pos:\n",
        "      gl = [get_greylist(x) for x in text]\n",
        "      is_greylist.append(gl)\n",
        "    return is_greylist\n",
        "  \n",
        "  def is_blacklist(self):\n",
        "    is_blacklist = []\n",
        "    for text in self.text:\n",
        "      bl = [get_blacklist(x) for x in text]\n",
        "      is_blacklist.append(bl)\n",
        "    return is_blacklist"
      ],
      "outputs": [],
      "metadata": {
        "id": "GBcSkp3Tlw3a"
      }
    },
    {
      "cell_type": "code",
      "execution_count": 53,
      "source": [
        "from nltk.text import Text\n",
        "def make_concordance_df(target_words, ws):\n",
        "\n",
        "  corpus = [item for sublist in ws for item in sublist]\n",
        "  text = Text(corpus)\n",
        "  dfs = []\n",
        "\n",
        "  for word in target_words:\n",
        "\n",
        "    con_list = text.concordance_list(word)\n",
        "    right_word = [x.right[0] for x in con_list]\n",
        "    left_word = [x.left[-1] for x in con_list]\n",
        "    context = [x.left + [word] + x.right for x in con_list]\n",
        "    context = [' '.join(x) for x in context]\n",
        "\n",
        "    df = pd.DataFrame({'left_word': left_word,\n",
        "                      'target_word': word,\n",
        "                      'right_word': right_word,\n",
        "                      'context': context})\n",
        "    dfs.append(df)\n",
        "\n",
        "  return dfs"
      ],
      "outputs": [],
      "metadata": {
        "id": "CtiqI399vqik"
      }
    },
    {
      "cell_type": "markdown",
      "source": [
        "## essay"
      ],
      "metadata": {
        "id": "esK1GrPQzCIg"
      }
    },
    {
      "cell_type": "code",
      "execution_count": 8,
      "source": [
        "essay_path = '../corpora/essay'\n",
        "all_files = sorted(os.listdir(essay_path))"
      ],
      "outputs": [],
      "metadata": {}
    },
    {
      "cell_type": "code",
      "execution_count": 24,
      "source": [
        "ws_all = []\n",
        "pos_all = []\n",
        "\n",
        "for file in all_files:\n",
        "    if re.findall(r'ws', file):\n",
        "        with open(f'../corpora/essay/{file}', 'rb') as f:\n",
        "            ws = pickle.load(f)\n",
        "        ws_all.append(ws)\n",
        "    else:\n",
        "        with open(f'../corpora/essay/{file}', 'rb') as f:\n",
        "            pos = pickle.load(f)\n",
        "        pos_all.append(pos)"
      ],
      "outputs": [],
      "metadata": {}
    },
    {
      "cell_type": "code",
      "execution_count": 28,
      "source": [
        "ws_all[0][0]"
      ],
      "outputs": [
        {
          "output_type": "execute_result",
          "data": {
            "text/plain": [
              "['新', '的', '開始', '，', '從', '心', '開始', '！']"
            ]
          },
          "metadata": {},
          "execution_count": 28
        }
      ],
      "metadata": {}
    },
    {
      "cell_type": "code",
      "execution_count": 29,
      "source": [
        "pos_all[0][0]"
      ],
      "outputs": [
        {
          "output_type": "execute_result",
          "data": {
            "text/plain": [
              "['VH', 'DE', 'Nv', 'COMMACATEGORY', 'P', 'Na', 'VH', 'EXCLAMATIONCATEGORY']"
            ]
          },
          "metadata": {},
          "execution_count": 29
        }
      ],
      "metadata": {}
    },
    {
      "cell_type": "markdown",
      "source": [
        "### 語料格式準備 - 1\n",
        "斷詞 + pos tag"
      ],
      "metadata": {
        "id": "2uD03JQLXEAL"
      }
    },
    {
      "cell_type": "code",
      "execution_count": 38,
      "source": [
        "def get_essay_ws_pos(ws, pos):\n",
        "  essay_ws_pos = []\n",
        "  for sent_ws, sent_pos in zip(ws, pos):\n",
        "    sent_ws_pos = []\n",
        "    for ws, pos in zip(sent_ws, sent_pos):\n",
        "      ws_pos = f\"{ws}({pos})\"\n",
        "      sent_ws_pos.append(ws_pos)\n",
        "    essay_ws_pos.append(' '.join(sent_ws_pos))\n",
        "  return essay_ws_pos"
      ],
      "outputs": [],
      "metadata": {}
    },
    {
      "cell_type": "code",
      "execution_count": 37,
      "source": [
        "essay_ws_pos = [get_essay_ws_pos(ws, pos) for ws, pos in zip(ws_all, pos_all)]"
      ],
      "outputs": [],
      "metadata": {}
    },
    {
      "cell_type": "code",
      "execution_count": 41,
      "source": [
        "essay_ws_pos[0][0]"
      ],
      "outputs": [
        {
          "output_type": "execute_result",
          "data": {
            "text/plain": [
              "'新(VH) 的(DE) 開始(Nv) ，(COMMACATEGORY) 從(P) 心(Na) 開始(VH) ！(EXCLAMATIONCATEGORY)'"
            ]
          },
          "metadata": {},
          "execution_count": 41
        }
      ],
      "metadata": {}
    },
    {
      "cell_type": "markdown",
      "source": [
        "### 語料格式準備 - 2\n",
        "斷好詞，無標點符號"
      ],
      "metadata": {
        "id": "Dwajf7ZZWaBU"
      }
    },
    {
      "cell_type": "code",
      "execution_count": 42,
      "source": [
        "essay_ws = []\n",
        "for text in essay_ws_pos:\n",
        "  ws = []\n",
        "  for sent in text:\n",
        "    sent_words = re.sub(r'\\([A-z0-9]+\\)', '', sent)\n",
        "    sent_words = re.sub(r'[^\\w\\s]', '', sent_words).strip().split(' ')\n",
        "    sent_words = list(filter(None, sent_words))\n",
        "    ws.append(sent_words)\n",
        "  essay_ws.append(ws)"
      ],
      "outputs": [],
      "metadata": {
        "id": "2Kt8zGv4ztpv"
      }
    },
    {
      "cell_type": "code",
      "execution_count": 43,
      "source": [
        "essay_ws[0][0]"
      ],
      "outputs": [
        {
          "output_type": "execute_result",
          "data": {
            "text/plain": [
              "['新', '的', '開始', '從', '心', '開始']"
            ]
          },
          "metadata": {},
          "execution_count": 43
        }
      ],
      "metadata": {
        "colab": {
          "base_uri": "https://localhost:8080/"
        },
        "id": "zpA1WCHnWk1F",
        "outputId": "96f1f8b3-974c-4b47-b942-63fe4491e220"
      }
    },
    {
      "cell_type": "markdown",
      "source": [
        "### 語料格式準備 - 3\n",
        "完整句子，含標點符號"
      ],
      "metadata": {
        "id": "Xkp7hgBZWwVJ"
      }
    },
    {
      "cell_type": "code",
      "execution_count": 44,
      "source": [
        "essay_text = []\n",
        "\n",
        "for text in essay_ws_pos:\n",
        "  t = []\n",
        "  for sent in text:\n",
        "    res = re.sub(r'\\([A-z0-9_]+\\)', '', sent)\n",
        "    res = res.replace(' ', '')\n",
        "    t.append(res)\n",
        "  essay_text.append(t)"
      ],
      "outputs": [],
      "metadata": {
        "id": "7NRQHElYWoAE"
      }
    },
    {
      "cell_type": "code",
      "execution_count": 45,
      "source": [
        "essay_text[0][0]"
      ],
      "outputs": [
        {
          "output_type": "execute_result",
          "data": {
            "text/plain": [
              "'新的開始，從心開始！'"
            ]
          },
          "metadata": {},
          "execution_count": 45
        }
      ],
      "metadata": {
        "colab": {
          "base_uri": "https://localhost:8080/",
          "height": 36
        },
        "id": "Wr9Yli8izDXp",
        "outputId": "91ac8af8-9b62-4dbc-eb9a-3ce48c34d29e"
      }
    },
    {
      "cell_type": "markdown",
      "source": [
        "### 計算指標"
      ],
      "metadata": {
        "id": "KaY10e5j0MoU"
      }
    },
    {
      "cell_type": "code",
      "execution_count": 47,
      "source": [
        "essay_corpus = Corpus(essay_ws, essay_ws_pos, essay_text)"
      ],
      "outputs": [],
      "metadata": {
        "id": "46IpnPec0MoU"
      }
    },
    {
      "cell_type": "code",
      "execution_count": 48,
      "source": [
        "essay_sentence_length = essay_corpus.sentence_length()\n",
        "essay_high_low_freq = essay_corpus.high_low_freq()\n",
        "essay_word_freq = essay_corpus.word_freq()\n",
        "essay_word_level = essay_corpus.word_level()\n",
        "essay_long_word_count = essay_corpus.long_word_count()\n",
        "essay_is_complete_sentence = essay_corpus.is_complete_sentence()\n",
        "essay_is_complete_context = essay_corpus.is_complete_context()\n",
        "essay_is_greylist = essay_corpus.is_greylist()\n",
        "essay_is_blacklist = essay_corpus.is_blacklist()"
      ],
      "outputs": [],
      "metadata": {
        "id": "YnOHPUms0MoV"
      }
    },
    {
      "cell_type": "markdown",
      "source": [
        "### 製作表格"
      ],
      "metadata": {
        "id": "prbmdk1T0MoV"
      }
    },
    {
      "cell_type": "code",
      "execution_count": 49,
      "source": [
        "essay_dfs = []\n",
        "\n",
        "for text, ws, length, w_freq, hl_freq, level, count, complete_sent, complete_cont, bl, gl in zip(essay_text, essay_ws, \n",
        "                  essay_sentence_length, essay_word_freq, essay_high_low_freq,\n",
        "                  essay_word_level, essay_long_word_count, essay_is_complete_sentence, \n",
        "                  essay_is_complete_context, essay_is_blacklist, essay_is_greylist):\n",
        "  \n",
        "  ws = [' '.join(sent) for sent in ws]\n",
        "  essay_df = pd.DataFrame({'sentence': text,\n",
        "                        'sentence_preprocessed': ws,\n",
        "                        'sentence_length': length,\n",
        "                        'word_freq': w_freq,\n",
        "                        'high_low_freq': hl_freq,\n",
        "                        'word_level': level,\n",
        "                        'long_word_count': count,\n",
        "                        'is_complete_sentence': complete_sent,\n",
        "                        'is_complete_context': complete_cont,\n",
        "                        'is_blacklist': bl,\n",
        "                        'is_greylist': gl})\n",
        "  essay_df = essay_df[essay_df['sentence_length']>0]\n",
        "  essay_dfs.append(essay_df)"
      ],
      "outputs": [],
      "metadata": {
        "id": "rTS38ND20MoV"
      }
    },
    {
      "cell_type": "code",
      "execution_count": 51,
      "source": [
        "for filename, df in zip(all_files[:3], essay_dfs):\n",
        "  filename = re.sub('.pkl', '', filename)\n",
        "  df.to_csv(f'../results/essay/essay_parameters/parameters_{filename}.csv', index = False)"
      ],
      "outputs": [],
      "metadata": {
        "id": "AbpSWAb40MoV"
      }
    },
    {
      "cell_type": "code",
      "execution_count": 54,
      "source": [
        "target_words = ['難得', '畢竟', '的確', '難免', '總是', '有助於']\n",
        "\n",
        "essay_concordance_dfs = []\n",
        "for text in essay_ws:\n",
        "  dfs = make_concordance_df(target_words, text)\n",
        "  concordance_df = pd.concat(dfs)\n",
        "  essay_concordance_dfs.append(concordance_df)"
      ],
      "outputs": [],
      "metadata": {
        "id": "d7r-NHYD0MoV"
      }
    },
    {
      "cell_type": "code",
      "execution_count": 55,
      "source": [
        "for filename, df in zip(all_files[:3], essay_concordance_dfs):\n",
        "  filename = re.sub('.pkl', '', filename)\n",
        "  df.to_csv(f'../results/essay/essay_concordance_df/concordance_df_{filename}.csv', index = False)"
      ],
      "outputs": [],
      "metadata": {
        "id": "GyJTKmaC0MoV"
      }
    }
  ]
}