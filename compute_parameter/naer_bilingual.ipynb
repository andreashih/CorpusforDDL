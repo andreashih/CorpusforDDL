{
  "nbformat": 4,
  "nbformat_minor": 2,
  "metadata": {
    "colab": {
      "provenance": []
    },
    "kernelspec": {
      "name": "python3",
      "display_name": "Python 3.9.10 64-bit"
    },
    "language_info": {
      "name": "python",
      "version": "3.9.10",
      "mimetype": "text/x-python",
      "codemirror_mode": {
        "name": "ipython",
        "version": 3
      },
      "pygments_lexer": "ipython3",
      "nbconvert_exporter": "python",
      "file_extension": ".py"
    },
    "interpreter": {
      "hash": "b0fa6594d8f4cbf19f97940f81e996739fb7646882a419484c72d19e05852a7e"
    }
  },
  "cells": [
    {
      "cell_type": "code",
      "execution_count": 1,
      "source": [
        "import os\n",
        "print(os.getcwd())"
      ],
      "outputs": [
        {
          "output_type": "stream",
          "name": "stdout",
          "text": [
            "/Users/andreashih/Desktop/compute_parameter/compute_parameter\n"
          ]
        }
      ],
      "metadata": {
        "colab": {
          "base_uri": "https://localhost:8080/"
        },
        "id": "Cozs-mhlJzVr",
        "outputId": "6a7f0f4d-301c-4a66-e016-590a133c100a"
      }
    },
    {
      "cell_type": "code",
      "execution_count": 6,
      "source": [
        "import pandas as pd\n",
        "import re\n",
        "import unicodedata\n",
        "from collections import Counter\n",
        "import xml.etree.ElementTree as ET"
      ],
      "outputs": [],
      "metadata": {
        "id": "NyKR_qdoJ2Gy"
      }
    },
    {
      "cell_type": "code",
      "execution_count": 3,
      "source": [
        "# 載入事先寫好的 functions\n",
        "from compute_parameters import *"
      ],
      "outputs": [],
      "metadata": {
        "id": "yoOkHW-9TKAH"
      }
    },
    {
      "cell_type": "code",
      "execution_count": 4,
      "source": [
        "class Corpus():\n",
        "  def __init__(self, ws, ws_pos, text):\n",
        "    self.ws = ws\n",
        "    self.ws_pos = ws_pos\n",
        "    self.text = text\n",
        "  \n",
        "  def sentence_length(self):\n",
        "    sentence_length = []\n",
        "    for text in self.ws:\n",
        "      length = [len(sentence) for sentence in text]\n",
        "      sentence_length.append(length)\n",
        "    return sentence_length\n",
        "  \n",
        "  def high_low_freq(self):\n",
        "    high_low_freq = []\n",
        "    for text in self.ws:\n",
        "      freq = [get_high_low_freq(sentence) for sentence in text]\n",
        "      high_low_freq.append(freq)\n",
        "    return high_low_freq\n",
        "  \n",
        "  def word_freq(self):\n",
        "    word_freq = []\n",
        "    for text in self.ws:\n",
        "      freq = [get_word_freq(sentence) for sentence in text]\n",
        "      word_freq.append(freq)\n",
        "    return word_freq\n",
        "  \n",
        "  def word_level(self):\n",
        "    word_level = []\n",
        "    for text in self.ws:\n",
        "      level = [get_word_level(sentence) for sentence in text]\n",
        "      word_level.append(level)\n",
        "    return word_level\n",
        "  \n",
        "  def long_word_count(self):\n",
        "    long_word_count = []\n",
        "    for text in self.ws:\n",
        "      count = [get_long_word_count(sentence) for sentence in text]\n",
        "      long_word_count.append(count)\n",
        "    return long_word_count\n",
        "  \n",
        "  def is_complete_sentence(self):\n",
        "    is_complete_sentence = []\n",
        "    for text in self.ws_pos:\n",
        "      sent = [get_complete_sentence(sentence) for sentence in text]\n",
        "      is_complete_sentence.append(sent)\n",
        "    return is_complete_sentence\n",
        "  \n",
        "  def is_complete_context(self):\n",
        "    is_complete_context = []\n",
        "    for text in self.ws_pos:\n",
        "      sent = [get_complete_context(sentence) for sentence in text]\n",
        "      is_complete_context.append(sent)\n",
        "    return is_complete_context\n",
        "  \n",
        "  def is_greylist(self):\n",
        "    is_greylist = []\n",
        "    for text in self.ws_pos:\n",
        "      gl = [get_greylist(x) for x in text]\n",
        "      is_greylist.append(gl)\n",
        "    return is_greylist\n",
        "  \n",
        "  def is_blacklist(self):\n",
        "    is_blacklist = []\n",
        "    for text in self.text:\n",
        "      bl = [get_blacklist(x) for x in text]\n",
        "      is_blacklist.append(bl)\n",
        "    return is_blacklist"
      ],
      "outputs": [],
      "metadata": {
        "id": "GBcSkp3Tlw3a"
      }
    },
    {
      "cell_type": "code",
      "execution_count": 5,
      "source": [
        "from nltk.text import Text\n",
        "def make_concordance_df(target_words, ws):\n",
        "\n",
        "  corpus = [item for sublist in ws for item in sublist]\n",
        "  text = Text(corpus)\n",
        "  dfs = []\n",
        "\n",
        "  for word in target_words:\n",
        "\n",
        "    con_list = text.concordance_list(word)\n",
        "    right_word = [x.right[0] for x in con_list]\n",
        "    left_word = [x.left[-1] for x in con_list]\n",
        "    context = [x.left + [word] + x.right for x in con_list]\n",
        "    context = [' '.join(x) for x in context]\n",
        "\n",
        "    df = pd.DataFrame({'left_word': left_word,\n",
        "                      'target_word': word,\n",
        "                      'right_word': right_word,\n",
        "                      'context': context})\n",
        "    dfs.append(df)\n",
        "\n",
        "  return dfs"
      ],
      "outputs": [],
      "metadata": {
        "id": "CtiqI399vqik"
      }
    },
    {
      "cell_type": "markdown",
      "source": [
        "## naer_bilingual"
      ],
      "metadata": {
        "id": "esK1GrPQzCIg"
      }
    },
    {
      "cell_type": "code",
      "execution_count": 16,
      "source": [
        "naer_bilingual_path = '../corpora/naer_bilingual'\n",
        "all_files = sorted(os.listdir(naer_bilingual_path))"
      ],
      "outputs": [],
      "metadata": {
        "id": "7-7qW9kQDMyt",
        "colab": {
          "base_uri": "https://localhost:8080/"
        },
        "outputId": "86950699-d5be-4b68-b9b1-d698abe8b3b6"
      }
    },
    {
      "cell_type": "code",
      "execution_count": 17,
      "source": [
        "trees = []\n",
        "for f in all_files:\n",
        "    try:\n",
        "        tree = ET.parse(f'{naer_bilingual_path}/{f}')\n",
        "    except:\n",
        "        pass\n",
        "    trees.append(tree)"
      ],
      "outputs": [],
      "metadata": {}
    },
    {
      "cell_type": "code",
      "execution_count": 18,
      "source": [
        "roots = [tree.getroot() for tree in trees]"
      ],
      "outputs": [],
      "metadata": {}
    },
    {
      "cell_type": "code",
      "execution_count": 19,
      "source": [
        "naer_bilingual_corpus = []\n",
        "for root in roots:\n",
        "    corp = [x.text for x in root.iter('chsentence') if x.text is not None]\n",
        "    naer_bilingual_corpus.append(corp)"
      ],
      "outputs": [],
      "metadata": {}
    },
    {
      "cell_type": "markdown",
      "source": [
        "### 語料格式準備 - 1\n",
        "斷詞 + pos tag"
      ],
      "metadata": {
        "id": "2uD03JQLXEAL"
      }
    },
    {
      "cell_type": "code",
      "execution_count": 20,
      "source": [
        "naer_bilingual_ws_pos = []\n",
        "\n",
        "for text in naer_bilingual_corpus:\n",
        "  joined = ''.join(text)\n",
        "  split_1 = re.split(r'(?<=。」|！」|？」)', joined) # 先用 。」 ！」 ？」 分隔\n",
        "  split_2 = [re.split(r'(?<=[。！？])(?!」)', x) for x in split_1] # 再用 。！？ 分隔\n",
        "  split = [item for sublist in split_2 for item in sublist] # 將 list of list 攤平\n",
        "\n",
        "  naer_bilingual_ws_pos.append(split)"
      ],
      "outputs": [],
      "metadata": {}
    },
    {
      "cell_type": "code",
      "execution_count": 21,
      "source": [
        "naer_bilingual_ws_pos[0][0]"
      ],
      "outputs": [
        {
          "output_type": "execute_result",
          "data": {
            "text/plain": [
              "'在/P 澳門/Nc 機場/Nc ，/PUNC 單/Da 是/SHI 去年/Nd 就/D 有/V_2 近/Da 百萬/Neu 人次/Na 的/DE 台灣/Nc 旅客/Na 取道/VC 澳門/Nc 前往/VCL 中國/Nc 大陸/Nc 或/Caa 入境/VA 澳門/Nc ，/PUNC 澳門/Nc 機場/Nc 的/DE 主要/A 旅客/Na 中/Ng ，/PUNC 台灣/Nc 客人/Na 佔/VJ 了/Di 八成/Neqa 。'"
            ]
          },
          "metadata": {},
          "execution_count": 21
        }
      ],
      "metadata": {
        "colab": {
          "base_uri": "https://localhost:8080/",
          "height": 36
        },
        "id": "sm6TphJe2Mgc",
        "outputId": "ee918f00-2f51-417f-995c-12a4bcdff346"
      }
    },
    {
      "cell_type": "markdown",
      "source": [
        "### 語料格式準備 - 2\n",
        "斷好詞，無標點符號"
      ],
      "metadata": {
        "id": "Dwajf7ZZWaBU"
      }
    },
    {
      "cell_type": "code",
      "execution_count": 22,
      "source": [
        "naer_bilingual_ws = []\n",
        "for text in naer_bilingual_ws_pos:\n",
        "  ws = []\n",
        "  for sent in text:\n",
        "    sent_words = re.sub(r'/[A-z]+', '', sent)\n",
        "    sent_words = re.sub(r'[^\\w\\s]', '', sent_words).strip().split(' ')\n",
        "    sent_words = list(filter(None, sent_words))\n",
        "    ws.append(sent_words)\n",
        "  naer_bilingual_ws.append(ws)"
      ],
      "outputs": [],
      "metadata": {
        "id": "2Kt8zGv4ztpv"
      }
    },
    {
      "cell_type": "code",
      "execution_count": 23,
      "source": [
        "naer_bilingual_ws[0][0]"
      ],
      "outputs": [
        {
          "output_type": "execute_result",
          "data": {
            "text/plain": [
              "['在',\n",
              " '澳門',\n",
              " '機場',\n",
              " '單',\n",
              " '是',\n",
              " '去年',\n",
              " '就',\n",
              " '有2',\n",
              " '近',\n",
              " '百萬',\n",
              " '人次',\n",
              " '的',\n",
              " '台灣',\n",
              " '旅客',\n",
              " '取道',\n",
              " '澳門',\n",
              " '前往',\n",
              " '中國',\n",
              " '大陸',\n",
              " '或',\n",
              " '入境',\n",
              " '澳門',\n",
              " '澳門',\n",
              " '機場',\n",
              " '的',\n",
              " '主要',\n",
              " '旅客',\n",
              " '中',\n",
              " '台灣',\n",
              " '客人',\n",
              " '佔',\n",
              " '了',\n",
              " '八成']"
            ]
          },
          "metadata": {},
          "execution_count": 23
        }
      ],
      "metadata": {
        "colab": {
          "base_uri": "https://localhost:8080/"
        },
        "id": "zpA1WCHnWk1F",
        "outputId": "96f1f8b3-974c-4b47-b942-63fe4491e220"
      }
    },
    {
      "cell_type": "markdown",
      "source": [
        "### 語料格式準備 - 3\n",
        "完整句子，含標點符號"
      ],
      "metadata": {
        "id": "Xkp7hgBZWwVJ"
      }
    },
    {
      "cell_type": "code",
      "execution_count": 24,
      "source": [
        "naer_bilingual_text = []\n",
        "\n",
        "for text in naer_bilingual_ws_pos:\n",
        "  t = []\n",
        "  for sent in text:\n",
        "    res = re.sub(r'/[A-z]+', '', sent)\n",
        "    res = res.replace(' ', '')\n",
        "    t.append(res)\n",
        "  naer_bilingual_text.append(t)"
      ],
      "outputs": [],
      "metadata": {
        "id": "7NRQHElYWoAE"
      }
    },
    {
      "cell_type": "code",
      "execution_count": 25,
      "source": [
        "naer_bilingual_text[0][0]"
      ],
      "outputs": [
        {
          "output_type": "execute_result",
          "data": {
            "text/plain": [
              "'在澳門機場，單是去年就有2近百萬人次的台灣旅客取道澳門前往中國大陸或入境澳門，澳門機場的主要旅客中，台灣客人佔了八成。'"
            ]
          },
          "metadata": {},
          "execution_count": 25
        }
      ],
      "metadata": {
        "colab": {
          "base_uri": "https://localhost:8080/",
          "height": 36
        },
        "id": "Wr9Yli8izDXp",
        "outputId": "91ac8af8-9b62-4dbc-eb9a-3ce48c34d29e"
      }
    },
    {
      "cell_type": "markdown",
      "source": [
        "### 計算指標"
      ],
      "metadata": {
        "id": "KaY10e5j0MoU"
      }
    },
    {
      "cell_type": "code",
      "execution_count": 26,
      "source": [
        "naer_bilingual_corpus = Corpus(naer_bilingual_ws, naer_bilingual_ws_pos, naer_bilingual_text)"
      ],
      "outputs": [],
      "metadata": {
        "id": "46IpnPec0MoU"
      }
    },
    {
      "cell_type": "code",
      "execution_count": 27,
      "source": [
        "naer_bilingual_sentence_length = naer_bilingual_corpus.sentence_length()\n",
        "naer_bilingual_high_low_freq = naer_bilingual_corpus.high_low_freq()\n",
        "naer_bilingual_word_freq = naer_bilingual_corpus.word_freq()\n",
        "naer_bilingual_word_level = naer_bilingual_corpus.word_level()\n",
        "naer_bilingual_long_word_count = naer_bilingual_corpus.long_word_count()\n",
        "naer_bilingual_is_complete_sentence = naer_bilingual_corpus.is_complete_sentence()\n",
        "naer_bilingual_is_complete_context = naer_bilingual_corpus.is_complete_context()\n",
        "naer_bilingual_is_greylist = naer_bilingual_corpus.is_greylist()\n",
        "naer_bilingual_is_blacklist = naer_bilingual_corpus.is_blacklist()"
      ],
      "outputs": [],
      "metadata": {
        "id": "YnOHPUms0MoV"
      }
    },
    {
      "cell_type": "markdown",
      "source": [
        "### 製作表格"
      ],
      "metadata": {
        "id": "prbmdk1T0MoV"
      }
    },
    {
      "cell_type": "code",
      "execution_count": 28,
      "source": [
        "naer_bilingual_dfs = []\n",
        "\n",
        "for text, ws, length, w_freq, hl_freq, level, count, complete_sent, complete_cont, bl, gl in zip(naer_bilingual_text, naer_bilingual_ws, \n",
        "                  naer_bilingual_sentence_length, naer_bilingual_word_freq, naer_bilingual_high_low_freq,\n",
        "                  naer_bilingual_word_level, naer_bilingual_long_word_count, naer_bilingual_is_complete_sentence, \n",
        "                  naer_bilingual_is_complete_context, naer_bilingual_is_blacklist, naer_bilingual_is_greylist):\n",
        "  \n",
        "  ws = [' '.join(sent) for sent in ws]\n",
        "  naer_bilingual_df = pd.DataFrame({'sentence': text,\n",
        "                        'sentence_preprocessed': ws,\n",
        "                        'sentence_length': length,\n",
        "                        'word_freq': w_freq,\n",
        "                        'high_low_freq': hl_freq,\n",
        "                        'word_level': level,\n",
        "                        'long_word_count': count,\n",
        "                        'is_complete_sentence': complete_sent,\n",
        "                        'is_complete_context': complete_cont,\n",
        "                        'is_blacklist': bl,\n",
        "                        'is_greylist': gl})\n",
        "  naer_bilingual_df = naer_bilingual_df[naer_bilingual_df['sentence_length']>0]\n",
        "  naer_bilingual_dfs.append(naer_bilingual_df)"
      ],
      "outputs": [],
      "metadata": {
        "id": "rTS38ND20MoV"
      }
    },
    {
      "cell_type": "code",
      "execution_count": 30,
      "source": [
        "for filename, df in zip(all_files, naer_bilingual_dfs):\n",
        "  filename = re.sub('.xml', '', filename)\n",
        "  df.to_csv(f'../results/naer_bilingual/naer_bilingual_parameters/parameters_{filename}.csv', index = False)"
      ],
      "outputs": [],
      "metadata": {
        "id": "AbpSWAb40MoV"
      }
    },
    {
      "cell_type": "code",
      "execution_count": 31,
      "source": [
        "target_words = ['難得', '畢竟', '的確', '難免', '總是', '有助於']\n",
        "\n",
        "naer_bilingual_concordance_dfs = []\n",
        "for text in naer_bilingual_ws:\n",
        "  dfs = make_concordance_df(target_words, text)\n",
        "  concordance_df = pd.concat(dfs)\n",
        "  naer_bilingual_concordance_dfs.append(concordance_df)"
      ],
      "outputs": [],
      "metadata": {
        "id": "d7r-NHYD0MoV"
      }
    },
    {
      "cell_type": "code",
      "execution_count": 33,
      "source": [
        "for filename, df in zip(all_files, naer_bilingual_concordance_dfs):\n",
        "  filename = re.sub('.xml', '', filename)\n",
        "  df.to_csv(f'../results/naer_bilingual/naer_bilingual_concordance_df/concordance_df_{filename}.csv', index = False)"
      ],
      "outputs": [],
      "metadata": {
        "id": "GyJTKmaC0MoV"
      }
    }
  ]
}