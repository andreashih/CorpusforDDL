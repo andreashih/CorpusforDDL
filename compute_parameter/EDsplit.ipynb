{
  "nbformat": 4,
  "nbformat_minor": 2,
  "metadata": {
    "colab": {
      "provenance": []
    },
    "kernelspec": {
      "name": "python3",
      "display_name": "Python 3.9.10 64-bit"
    },
    "language_info": {
      "name": "python",
      "version": "3.9.10",
      "mimetype": "text/x-python",
      "codemirror_mode": {
        "name": "ipython",
        "version": 3
      },
      "pygments_lexer": "ipython3",
      "nbconvert_exporter": "python",
      "file_extension": ".py"
    },
    "interpreter": {
      "hash": "b0fa6594d8f4cbf19f97940f81e996739fb7646882a419484c72d19e05852a7e"
    }
  },
  "cells": [
    {
      "cell_type": "code",
      "execution_count": null,
      "source": [
        "import os\n",
        "print(os.getcwd())"
      ],
      "outputs": [],
      "metadata": {
        "colab": {
          "base_uri": "https://localhost:8080/"
        },
        "id": "Cozs-mhlJzVr",
        "outputId": "6a7f0f4d-301c-4a66-e016-590a133c100a"
      }
    },
    {
      "cell_type": "code",
      "execution_count": null,
      "source": [
        "import pandas as pd\n",
        "import re\n",
        "import unicodedata\n",
        "from collections import Counter"
      ],
      "outputs": [],
      "metadata": {
        "id": "NyKR_qdoJ2Gy"
      }
    },
    {
      "cell_type": "code",
      "execution_count": null,
      "source": [
        "# 載入事先寫好的 functions\n",
        "from compute_parameters import *"
      ],
      "outputs": [],
      "metadata": {
        "id": "yoOkHW-9TKAH"
      }
    },
    {
      "cell_type": "code",
      "execution_count": null,
      "source": [
        "class Corpus():\n",
        "  def __init__(self, ws, ws_pos, text):\n",
        "    self.ws = ws\n",
        "    self.ws_pos = ws_pos\n",
        "    self.text = text\n",
        "  \n",
        "  def sentence_length(self):\n",
        "    sentence_length = []\n",
        "    for text in self.ws:\n",
        "      length = [len(sentence) for sentence in text]\n",
        "      sentence_length.append(length)\n",
        "    return sentence_length\n",
        "  \n",
        "  def high_low_freq(self):\n",
        "    high_low_freq = []\n",
        "    for text in self.ws:\n",
        "      freq = [get_high_low_freq(sentence) for sentence in text]\n",
        "      high_low_freq.append(freq)\n",
        "    return high_low_freq\n",
        "  \n",
        "  def word_freq(self):\n",
        "    word_freq = []\n",
        "    for text in self.ws:\n",
        "      freq = [get_word_freq(sentence) for sentence in text]\n",
        "      word_freq.append(freq)\n",
        "    return word_freq\n",
        "  \n",
        "  def word_level(self):\n",
        "    word_level = []\n",
        "    for text in self.ws:\n",
        "      level = [get_word_level(sentence) for sentence in text]\n",
        "      word_level.append(level)\n",
        "    return word_level\n",
        "  \n",
        "  def long_word_count(self):\n",
        "    long_word_count = []\n",
        "    for text in self.ws:\n",
        "      count = [get_long_word_count(sentence) for sentence in text]\n",
        "      long_word_count.append(count)\n",
        "    return long_word_count\n",
        "  \n",
        "  def is_complete_sentence(self):\n",
        "    is_complete_sentence = []\n",
        "    for text in self.ws_pos:\n",
        "      sent = [get_complete_sentence(sentence) for sentence in text]\n",
        "      is_complete_sentence.append(sent)\n",
        "    return is_complete_sentence\n",
        "  \n",
        "  def is_complete_context(self):\n",
        "    is_complete_context = []\n",
        "    for text in self.ws_pos:\n",
        "      sent = [get_complete_context(sentence) for sentence in text]\n",
        "      is_complete_context.append(sent)\n",
        "    return is_complete_context\n",
        "  \n",
        "  def is_greylist(self):\n",
        "    is_greylist = []\n",
        "    for text in self.ws_pos:\n",
        "      gl = [get_greylist(x) for x in text]\n",
        "      is_greylist.append(gl)\n",
        "    return is_greylist\n",
        "  \n",
        "  def is_blacklist(self):\n",
        "    is_blacklist = []\n",
        "    for text in self.text:\n",
        "      bl = [get_blacklist(x) for x in text]\n",
        "      is_blacklist.append(bl)\n",
        "    return is_blacklist"
      ],
      "outputs": [],
      "metadata": {
        "id": "GBcSkp3Tlw3a"
      }
    },
    {
      "cell_type": "code",
      "execution_count": null,
      "source": [
        "from nltk.text import Text\n",
        "def make_concordance_df(target_words, ws):\n",
        "\n",
        "  corpus = [item for sublist in ws for item in sublist]\n",
        "  text = Text(corpus)\n",
        "  dfs = []\n",
        "\n",
        "  for word in target_words:\n",
        "\n",
        "    con_list = text.concordance_list(word)\n",
        "    right_word = [x.right[0] for x in con_list]\n",
        "    left_word = [x.left[-1] for x in con_list]\n",
        "    context = [x.left + [word] + x.right for x in con_list]\n",
        "    context = [' '.join(x) for x in context]\n",
        "\n",
        "    df = pd.DataFrame({'left_word': left_word,\n",
        "                      'target_word': word,\n",
        "                      'right_word': right_word,\n",
        "                      'context': context})\n",
        "    dfs.append(df)\n",
        "\n",
        "  return dfs"
      ],
      "outputs": [],
      "metadata": {
        "id": "CtiqI399vqik"
      }
    },
    {
      "cell_type": "markdown",
      "source": [
        "## EDsplit"
      ],
      "metadata": {
        "id": "esK1GrPQzCIg"
      }
    },
    {
      "cell_type": "code",
      "execution_count": null,
      "source": [
        "len(sorted(os.listdir('EDsplit-1File1Days-DeleteRepeatPattern-TitleWithoutPeriod-out')))"
      ],
      "outputs": [],
      "metadata": {}
    },
    {
      "cell_type": "code",
      "execution_count": null,
      "source": [
        "# 讀入 EDsplit txt 檔\n",
        "edsplit_path = '../corpora/EDsplit-1File1Days-DeleteRepeatPattern-TitleWithoutPeriod-out'\n",
        "all_files = sorted(os.listdir(edsplit_path))[2000:]\n",
        "\n",
        "edsplit_corpus = []\n",
        "for f in all_files:\n",
        "  with open(f'{edsplit_path}/{f}', 'rb') as f:\n",
        "      lines = f.readlines()\n",
        "      edsplit_corpus.append(lines)"
      ],
      "outputs": [],
      "metadata": {
        "id": "7-7qW9kQDMyt",
        "colab": {
          "base_uri": "https://localhost:8080/"
        },
        "outputId": "86950699-d5be-4b68-b9b1-d698abe8b3b6"
      }
    },
    {
      "cell_type": "code",
      "execution_count": null,
      "source": [
        "edsplit_corpus_decoded = []\n",
        "\n",
        "for text in edsplit_corpus:\n",
        "  text_decoded = []\n",
        "  not_decoded = []\n",
        "  for string in text:\n",
        "    try:\n",
        "      text = string.decode('cp950')\n",
        "      text_decoded.append(text)\n",
        "    except:\n",
        "      not_decoded.append(string)\n",
        "  edsplit_corpus_decoded.append(text_decoded)"
      ],
      "outputs": [],
      "metadata": {
        "id": "otOO_7dZFJZj"
      }
    },
    {
      "cell_type": "markdown",
      "source": [
        "### 語料格式準備 - 1\n",
        "斷詞 + pos tag"
      ],
      "metadata": {
        "id": "2uD03JQLXEAL"
      }
    },
    {
      "cell_type": "code",
      "execution_count": null,
      "source": [
        "# 前處理\n",
        "def preprocess_edsplit(string):\n",
        "\n",
        "  clean_string = unicodedata.normalize('NFKC', string) # 全形轉半形\n",
        "  clean_string = re.sub(r'\\r|\\n', '', clean_string) # 移除換行符號\n",
        "  clean_string = re.sub(r'\\[\\+[A-z0-9]+\\]', '', clean_string) # 移除特徵標記\n",
        "  clean_string = re.sub(r'\\(\\w+CATEGORY\\)', '', clean_string) # 移除標點符號標記\n",
        "\n",
        "  clean_string = clean_string.translate(str.maketrans({',': '，', \n",
        "                                                       '!': '！', \n",
        "                                                       '?': '？'})) # ，！？改回全形\n",
        "  clean_string = clean_string.strip()\n",
        "  return clean_string"
      ],
      "outputs": [],
      "metadata": {
        "id": "tax9Y2jJGTRu"
      }
    },
    {
      "cell_type": "code",
      "execution_count": null,
      "source": [
        "edsplit_ws_pos = []\n",
        "\n",
        "for text in edsplit_corpus_decoded:\n",
        "  preprocessed = [preprocess_edsplit(string) for string in text]\n",
        "  joined = ''.join(preprocessed)\n",
        "  split_1 = re.split(r'(?<=。」|！」|？」)', joined) # 先用 。」 ！」 ？」 分隔\n",
        "  split_2 = [re.split(r'(?<=[。！？])(?!」)', x) for x in split_1] # 再用 。！？ 分隔\n",
        "  split = [item for sublist in split_2 for item in sublist] # 將 list of list 攤平\n",
        "\n",
        "  edsplit_ws_pos.append(split)"
      ],
      "outputs": [],
      "metadata": {
        "id": "5ltzOJCF2C0J"
      }
    },
    {
      "cell_type": "code",
      "execution_count": null,
      "source": [
        "edsplit_ws_pos[0][0]"
      ],
      "outputs": [],
      "metadata": {
        "colab": {
          "base_uri": "https://localhost:8080/",
          "height": 36
        },
        "id": "sm6TphJe2Mgc",
        "outputId": "ee918f00-2f51-417f-995c-12a4bcdff346"
      }
    },
    {
      "cell_type": "markdown",
      "source": [
        "### 語料格式準備 - 2\n",
        "斷好詞，無標點符號"
      ],
      "metadata": {
        "id": "Dwajf7ZZWaBU"
      }
    },
    {
      "cell_type": "code",
      "execution_count": null,
      "source": [
        "edsplit_ws = []\n",
        "for text in edsplit_ws_pos:\n",
        "  ws = []\n",
        "  for sent in text:\n",
        "    sent_words = re.sub(r'\\([A-z0-9]+\\)', '', sent)\n",
        "    sent_words = re.sub(r'[^\\w\\s]', '', sent_words).strip().split(' ')\n",
        "    sent_words = list(filter(None, sent_words))\n",
        "    ws.append(sent_words)\n",
        "  edsplit_ws.append(ws)"
      ],
      "outputs": [],
      "metadata": {
        "id": "2Kt8zGv4ztpv"
      }
    },
    {
      "cell_type": "code",
      "execution_count": null,
      "source": [
        "edsplit_ws[0][0]"
      ],
      "outputs": [],
      "metadata": {
        "colab": {
          "base_uri": "https://localhost:8080/"
        },
        "id": "zpA1WCHnWk1F",
        "outputId": "96f1f8b3-974c-4b47-b942-63fe4491e220"
      }
    },
    {
      "cell_type": "markdown",
      "source": [
        "### 語料格式準備 - 3\n",
        "完整句子，含標點符號"
      ],
      "metadata": {
        "id": "Xkp7hgBZWwVJ"
      }
    },
    {
      "cell_type": "code",
      "execution_count": null,
      "source": [
        "edsplit_text = []\n",
        "\n",
        "for text in edsplit_ws_pos:\n",
        "  t = []\n",
        "  for sent in text:\n",
        "    res = re.sub(r'\\([A-z0-9_]+\\)', '', sent)\n",
        "    res = res.replace(' ', '')\n",
        "    t.append(res)\n",
        "  edsplit_text.append(t)"
      ],
      "outputs": [],
      "metadata": {
        "id": "7NRQHElYWoAE"
      }
    },
    {
      "cell_type": "code",
      "execution_count": null,
      "source": [
        "edsplit_text[0][0]"
      ],
      "outputs": [],
      "metadata": {
        "colab": {
          "base_uri": "https://localhost:8080/",
          "height": 36
        },
        "id": "Wr9Yli8izDXp",
        "outputId": "91ac8af8-9b62-4dbc-eb9a-3ce48c34d29e"
      }
    },
    {
      "cell_type": "markdown",
      "source": [
        "### 計算指標"
      ],
      "metadata": {
        "id": "KaY10e5j0MoU"
      }
    },
    {
      "cell_type": "code",
      "execution_count": null,
      "source": [
        "edsplit_corpus = Corpus(edsplit_ws, edsplit_ws_pos, edsplit_text)"
      ],
      "outputs": [],
      "metadata": {
        "id": "46IpnPec0MoU"
      }
    },
    {
      "cell_type": "code",
      "execution_count": null,
      "source": [
        "edsplit_sentence_length = edsplit_corpus.sentence_length()\n",
        "edsplit_high_low_freq = edsplit_corpus.high_low_freq()\n",
        "edsplit_word_freq = edsplit_corpus.word_freq()\n",
        "edsplit_word_level = edsplit_corpus.word_level()\n",
        "edsplit_long_word_count = edsplit_corpus.long_word_count()\n",
        "edsplit_is_complete_sentence = edsplit_corpus.is_complete_sentence()\n",
        "edsplit_is_complete_context = edsplit_corpus.is_complete_context()\n",
        "edsplit_is_greylist = edsplit_corpus.is_greylist()\n",
        "edsplit_is_blacklist = edsplit_corpus.is_blacklist()"
      ],
      "outputs": [],
      "metadata": {
        "id": "YnOHPUms0MoV"
      }
    },
    {
      "cell_type": "markdown",
      "source": [
        "### 製作表格"
      ],
      "metadata": {
        "id": "prbmdk1T0MoV"
      }
    },
    {
      "cell_type": "code",
      "execution_count": null,
      "source": [
        "edsplit_dfs = []\n",
        "\n",
        "for text, ws, length, w_freq, hl_freq, level, count, complete_sent, complete_cont, bl, gl in zip(edsplit_text, edsplit_ws, \n",
        "                  edsplit_sentence_length, edsplit_word_freq, edsplit_high_low_freq,\n",
        "                  edsplit_word_level, edsplit_long_word_count, edsplit_is_complete_sentence, \n",
        "                  edsplit_is_complete_context, edsplit_is_blacklist, edsplit_is_greylist):\n",
        "  \n",
        "  ws = [' '.join(sent) for sent in ws]\n",
        "  edsplit_df = pd.DataFrame({'sentence': text,\n",
        "                        'sentence_preprocessed': ws,\n",
        "                        'sentence_length': length,\n",
        "                        'word_freq': w_freq,\n",
        "                        'high_low_freq': hl_freq,\n",
        "                        'word_level': level,\n",
        "                        'long_word_count': count,\n",
        "                        'is_complete_sentence': complete_sent,\n",
        "                        'is_complete_context': complete_cont,\n",
        "                        'is_blacklist': bl,\n",
        "                        'is_greylist': gl})\n",
        "  edsplit_df = edsplit_df[edsplit_df['sentence_length']>0]\n",
        "  edsplit_dfs.append(edsplit_df)"
      ],
      "outputs": [],
      "metadata": {
        "id": "rTS38ND20MoV"
      }
    },
    {
      "cell_type": "code",
      "execution_count": null,
      "source": [
        "for filename, df in zip(all_files, edsplit_dfs):\n",
        "  filename = re.sub('.txt', '', filename)\n",
        "  df.to_csv(f'../results/EDsplit/EDsplit_parameters/parameters_{filename}.csv', index = False)"
      ],
      "outputs": [],
      "metadata": {
        "id": "AbpSWAb40MoV"
      }
    },
    {
      "cell_type": "code",
      "execution_count": null,
      "source": [
        "target_words = ['難得', '畢竟', '的確', '難免', '總是', '有助於']\n",
        "\n",
        "edsplit_concordance_dfs = []\n",
        "for text in edsplit_ws:\n",
        "  dfs = make_concordance_df(target_words, text)\n",
        "  concordance_df = pd.concat(dfs)\n",
        "  edsplit_concordance_dfs.append(concordance_df)"
      ],
      "outputs": [],
      "metadata": {
        "id": "d7r-NHYD0MoV"
      }
    },
    {
      "cell_type": "code",
      "execution_count": null,
      "source": [
        "for filename, df in zip(all_files, edsplit_concordance_dfs):\n",
        "  filename = re.sub('.txt', '', filename)\n",
        "  df.to_csv(f'../results/EDsplit/EDsplit_concordance_df/concordance_df_{filename}.csv', index = False)"
      ],
      "outputs": [],
      "metadata": {
        "id": "GyJTKmaC0MoV"
      }
    }
  ]
}