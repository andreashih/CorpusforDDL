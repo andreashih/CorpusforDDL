{
  "nbformat": 4,
  "nbformat_minor": 0,
  "metadata": {
    "colab": {
      "provenance": []
    },
    "kernelspec": {
      "name": "python3",
      "display_name": "Python 3"
    },
    "language_info": {
      "name": "python"
    }
  },
  "cells": [
    {
      "cell_type": "code",
      "execution_count": 1,
      "metadata": {
        "colab": {
          "base_uri": "https://localhost:8080/"
        },
        "id": "6tQK8dUc5Isq",
        "outputId": "036609df-b699-4dee-fb0e-690bae5b1595"
      },
      "outputs": [
        {
          "output_type": "stream",
          "name": "stdout",
          "text": [
            "Drive already mounted at /content/drive; to attempt to forcibly remount, call drive.mount(\"/content/drive\", force_remount=True).\n",
            "/content/drive/MyDrive/CorpusforDDL_compute\n"
          ]
        }
      ],
      "source": [
        "from google.colab import drive\n",
        "drive.mount('/content/drive')\n",
        "\n",
        "import os\n",
        "os.chdir('/content/drive/MyDrive/CorpusforDDL_compute')\n",
        "print(os.getcwd())"
      ]
    },
    {
      "cell_type": "code",
      "source": [
        "import pandas as pd\n",
        "import re\n",
        "import unicodedata\n",
        "import pickle\n",
        "from collections import Counter"
      ],
      "metadata": {
        "id": "dOKmoL6C5Mwp"
      },
      "execution_count": 2,
      "outputs": []
    },
    {
      "cell_type": "code",
      "source": [
        "# 讀入 ASBC txt 檔\n",
        "asbc_path = 'CorpusforDDL/ASBC_去XML標記'\n",
        "all_files = os.listdir(asbc_path)\n",
        "\n",
        "asbc_corpus = []\n",
        "for f in all_files:\n",
        "  with open(f'{asbc_path}/{f}') as f:\n",
        "      lines = f.readlines()\n",
        "      asbc_corpus.append(lines)"
      ],
      "metadata": {
        "id": "Dy_LeCpa5dIn"
      },
      "execution_count": 3,
      "outputs": []
    },
    {
      "cell_type": "code",
      "source": [
        "# 前處理\n",
        "def preprocess_asbc(string):\n",
        "\n",
        "  clean_string = unicodedata.normalize('NFKC', string) # 全形轉半形\n",
        "  clean_string = re.sub(r'\\n', '', clean_string) # 移除換行符號\n",
        "  clean_string = re.sub(r'\\-+', '', clean_string) # 移除連續的 -\n",
        "  clean_string = re.sub(r'\\[\\+[A-z0-9]+\\]', '', clean_string) # 移除特徵標記\n",
        "  clean_string = re.sub(r'\\(\\w+CATEGORY\\)', '', clean_string) # 移除標點符號標記\n",
        "\n",
        "  clean_string = clean_string.translate(str.maketrans({',': '，', \n",
        "                                                       '!': '！', \n",
        "                                                       '?': '？',\n",
        "                                                       ':': '：',\n",
        "                                                       ';': '；'})) # 部分符號改回全形\n",
        "  return clean_string"
      ],
      "metadata": {
        "id": "roSTanZB5dx7"
      },
      "execution_count": 4,
      "outputs": []
    },
    {
      "cell_type": "code",
      "source": [
        "asbc_corpus_preprocessed = []\n",
        "\n",
        "for text in asbc_corpus:\n",
        "  preprocessed = [preprocess_asbc(string) for string in text]\n",
        "  joined = ''.join(preprocessed)\n",
        "  split_1 = re.split(r'(?<=。」|！」|？」)', joined) # 先用 。」 ！」 ？」 分隔\n",
        "  split_2 = [re.split(r'(?<=[。！？])(?!」)', x) for x in split_1] # 再用 。！？ 分隔\n",
        "  splitted = [item for sublist in split_2 for item in sublist] # 將 list of list 攤平\n",
        "\n",
        "  asbc_corpus_preprocessed.append(splitted)"
      ],
      "metadata": {
        "id": "vrYFD7dK5lyr"
      },
      "execution_count": 5,
      "outputs": []
    },
    {
      "cell_type": "code",
      "source": [
        "asbc_test = asbc_corpus_preprocessed[0] # 先取一個檔案當例子\n",
        "asbc_test[0]"
      ],
      "metadata": {
        "colab": {
          "base_uri": "https://localhost:8080/",
          "height": 36
        },
        "id": "hXBkduep5p_n",
        "outputId": "227bcc9a-bcd7-4533-92c4-7479e2f46ff7"
      },
      "execution_count": 44,
      "outputs": [
        {
          "output_type": "execute_result",
          "data": {
            "text/plain": [
              "'碰到(VC) 這(Nep) 種(Nf) 情形(Na) ，真(D) 是(SHI) 會(D) 令(VL) 人(Na) 又(Caa) 氣憤(VH) 又(Caa) 苦惱(VH) 。'"
            ],
            "application/vnd.google.colaboratory.intrinsic+json": {
              "type": "string"
            }
          },
          "metadata": {},
          "execution_count": 44
        }
      ]
    },
    {
      "cell_type": "code",
      "source": [
        "def asbc_get_sentence(sentence):\n",
        "\n",
        "  sentence_words = re.sub(r'\\([A-z0-9]+\\)', '', sentence)\n",
        "  sentence_words = re.sub(r'[^\\w\\s]', '', sentence_words).strip().split(' ')\n",
        "  sentence_words = list(filter(None, sentence_words))\n",
        "\n",
        "  return sentence_words"
      ],
      "metadata": {
        "id": "MPKxSgpY5yiT"
      },
      "execution_count": 7,
      "outputs": []
    },
    {
      "cell_type": "code",
      "source": [
        "asbc_test_sent = [asbc_get_sentence(sentence) for sentence in asbc_test]\n",
        "asbc_test_sent[0]"
      ],
      "metadata": {
        "colab": {
          "base_uri": "https://localhost:8080/"
        },
        "id": "BWCHrNAA6DRu",
        "outputId": "0f256822-54ef-40e4-9cc7-0e1c64e8666c"
      },
      "execution_count": 8,
      "outputs": [
        {
          "output_type": "execute_result",
          "data": {
            "text/plain": [
              "['碰到', '這', '種', '情形', '真', '是', '會', '令', '人', '又', '氣憤', '又', '苦惱']"
            ]
          },
          "metadata": {},
          "execution_count": 8
        }
      ]
    },
    {
      "cell_type": "code",
      "source": [
        "asbc_test_text = []\n",
        "\n",
        "for sent in asbc_test:\n",
        "  res = re.sub(r'\\([A-z0-9_]+\\)', '', sent)\n",
        "  res = res.replace(' ', '')\n",
        "  asbc_test_text.append(res)"
      ],
      "metadata": {
        "id": "U5OW8lziNRoV"
      },
      "execution_count": 9,
      "outputs": []
    },
    {
      "cell_type": "code",
      "source": [
        "asbc_test_text[:20]"
      ],
      "metadata": {
        "colab": {
          "base_uri": "https://localhost:8080/"
        },
        "id": "Jx0kg01yNePe",
        "outputId": "18f5a87b-3683-4ee0-d9cd-cb5ee94d80cd"
      },
      "execution_count": 10,
      "outputs": [
        {
          "output_type": "execute_result",
          "data": {
            "text/plain": [
              "['碰到這種情形，真是會令人又氣憤又苦惱。',\n",
              " '相信大多數的母親也都有過類似的困擾，因為我們的生活環境逐漸被色情電影、錄影帶、畫片、書刊所污染。',\n",
              " '尤其在「笑貧不笑娼」的社會風氣裡，有些唯利是圖的不法商人，更是以誇張的色情表演和刺激的畫面來招攬生意。',\n",
              " '要我們這些做父母的完全禁止孩子們去接觸，可真是防不勝防。',\n",
              " '縱使你的孩子現在沒看過，以後他同樣會有機會接觸，所以，我們要做的並不是彌補的工作，而是如何「正視」地處理。',\n",
              " '一、加強辨別力最好用隨機教育的方法，譬如正好一起看到張貼的色情海報，或螢幕上出現了暴露畫面，不妨在過後問他有什麼看法？',\n",
              " '讓他講出來。',\n",
              " '先不要責怪他的意見不成熟，而是要輔導他有正確的性知識，讓他了解「性」應該以「愛」為基礎的，這是夫妻親密的表達方式之一，是很正常的需要。',\n",
              " '像那種故意誇張的做法，對人只有一時感官的刺激，卻不能使人得到身心一致的快樂。',\n",
              " '我們最好學會分辨其中的差別。',\n",
              " '說的時候，言詞盡量溫和自然，而且要隨著他的年齡成長繼續增添內容。',\n",
              " '我們不可能要求孩子立刻完全明瞭，但是至少讓他知道父母的態度和分辨是非的需要。',\n",
              " '二、轉移注意力你的孩子目前才小學一年級，以他活潑外向的個性，我們不妨從體力的發洩和精神的培養來提供他高尚的嗜好。',\n",
              " '比如給他一個球、一個顯微鏡、一個迷你照相機，帶他到書店一起挑選好書(包括了解人體奧祕的自然叢書)。',\n",
              " '曾經有一個迷惑的媽媽問：「我真不知道自己的孩子將來要變成怎樣才好？」',\n",
              " '我的建議是：「我們不可能把孩子變成我們所希望的模樣，但是培養他有樂觀、上進、負責的生活態度，卻是做父母可以提供的方向。」',\n",
              " '愛能使一切改觀。',\n",
              " '小燕讀者：你在來信中提到父親常發脾氣，或許和他從小沒有父母，兄弟之間感情淡薄有關，往往一發起脾氣來就數落媽媽的不是，亂摔東西。',\n",
              " '你說：「剛開始大家都十分害怕，但是現在可說是習慣了。',\n",
              " '有時候我想離家，可是我又想這是逃避的行為。」']"
            ]
          },
          "metadata": {},
          "execution_count": 10
        }
      ]
    },
    {
      "cell_type": "markdown",
      "source": [
        "## 句子長度\n",
        "計算方法：算出每一個句子中含有幾個詞彙"
      ],
      "metadata": {
        "id": "A_iToQIE_ksd"
      }
    },
    {
      "cell_type": "code",
      "source": [
        "sentence_length = [len(sentence) for sentence in asbc_test_sent]\n",
        "sentence_length[:10]"
      ],
      "metadata": {
        "colab": {
          "base_uri": "https://localhost:8080/"
        },
        "id": "LYpD5FrW_jdP",
        "outputId": "2daa22b8-e197-45c4-e33c-cb6f3ab921c3"
      },
      "execution_count": 11,
      "outputs": [
        {
          "output_type": "execute_result",
          "data": {
            "text/plain": [
              "[13, 25, 31, 16, 31, 33, 3, 40, 24, 7]"
            ]
          },
          "metadata": {},
          "execution_count": 11
        }
      ]
    },
    {
      "cell_type": "markdown",
      "source": [
        "## 詞頻\n",
        "計算方法：參考 COCT 詞頻資料，以詞頻 1200 為標準，回傳每一個句子中含有幾個高頻詞、幾個低頻詞，還有句子中每一個詞的詞頻"
      ],
      "metadata": {
        "id": "G6MB2acL_zFx"
      }
    },
    {
      "cell_type": "code",
      "source": [
        "# 讀入 COCT txt 檔\n",
        "coct_path = 'data/coct_frequency_list_2019.txt'\n",
        "with open(coct_path) as f:\n",
        "    lines = f.readlines()\n",
        "    lines = [line.rstrip('\\n') for line in lines]"
      ],
      "metadata": {
        "id": "yDsTX4MD_hYb"
      },
      "execution_count": 12,
      "outputs": []
    },
    {
      "cell_type": "code",
      "source": [
        "coct_data = [x.split('\\t') for x in lines[5:len(lines)-2]]\n",
        "coct_data[:5]"
      ],
      "metadata": {
        "colab": {
          "base_uri": "https://localhost:8080/"
        },
        "id": "lSAX2LgtKRMI",
        "outputId": "769f4ec5-e8c0-4ef9-e45b-e4d3692eec5f"
      },
      "execution_count": 13,
      "outputs": [
        {
          "output_type": "execute_result",
          "data": {
            "text/plain": [
              "[['1', '，', '23348406'],\n",
              " ['2', '的', '16029838'],\n",
              " ['3', '。', '11412297'],\n",
              " ['4', '是', '4642407'],\n",
              " ['5', '一', '3701681']]"
            ]
          },
          "metadata": {},
          "execution_count": 13
        }
      ]
    },
    {
      "cell_type": "code",
      "source": [
        "keys = [x[1] for x in coct_data]\n",
        "vals = [int(x[2]) for x in coct_data]\n",
        "print(keys[:5])\n",
        "print(vals[:5])"
      ],
      "metadata": {
        "colab": {
          "base_uri": "https://localhost:8080/"
        },
        "id": "8uiPotVJJ9mC",
        "outputId": "bebf1192-7b0d-4734-ba23-45d9f73ae7bd"
      },
      "execution_count": 14,
      "outputs": [
        {
          "output_type": "stream",
          "name": "stdout",
          "text": [
            "['，', '的', '。', '是', '一']\n",
            "[23348406, 16029838, 11412297, 4642407, 3701681]\n"
          ]
        }
      ]
    },
    {
      "cell_type": "code",
      "source": [
        "coct_data_dict = dict(list(zip(keys, vals)))\n",
        "coct_data_dict.get('我')"
      ],
      "metadata": {
        "colab": {
          "base_uri": "https://localhost:8080/"
        },
        "id": "x_WE7zumJ-5i",
        "outputId": "75b75608-15f7-4695-bf5b-ceea20d25c7a"
      },
      "execution_count": 15,
      "outputs": [
        {
          "output_type": "execute_result",
          "data": {
            "text/plain": [
              "3033032"
            ]
          },
          "metadata": {},
          "execution_count": 15
        }
      ]
    },
    {
      "cell_type": "code",
      "source": [
        "def get_high_low_freq(sentence):\n",
        "\n",
        "  freq = []\n",
        "  for word in sentence:\n",
        "    try:\n",
        "      f = coct_data_dict[word]\n",
        "    except:\n",
        "      f = 0 # 若是在 sorted_wordfreq_dict 中找不到該詞的頻率資料，則將其頻率指定為 0\n",
        "    freq.append(f)\n",
        "\n",
        "  high_low = ['High' if f > 100 else 'Low' for f in freq] # 若在 ASBC 中詞頻大於 100，則視為高頻詞 (High)\n",
        "\n",
        "  return dict(Counter(high_low))"
      ],
      "metadata": {
        "id": "UoYn6_vYNwp3"
      },
      "execution_count": 16,
      "outputs": []
    },
    {
      "cell_type": "code",
      "source": [
        "get_high_low_freq(asbc_test_sent[5])"
      ],
      "metadata": {
        "colab": {
          "base_uri": "https://localhost:8080/"
        },
        "id": "sGIXw-fMOUmV",
        "outputId": "267f2efc-afe8-4b2b-edd3-4ed15ad5c103"
      },
      "execution_count": 17,
      "outputs": [
        {
          "output_type": "execute_result",
          "data": {
            "text/plain": [
              "{'High': 32, 'Low': 1}"
            ]
          },
          "metadata": {},
          "execution_count": 17
        }
      ]
    },
    {
      "cell_type": "code",
      "source": [
        "high_low_freq = [get_high_low_freq(sentence) for sentence in asbc_test_sent]\n",
        "high_low_freq[:10]"
      ],
      "metadata": {
        "colab": {
          "base_uri": "https://localhost:8080/"
        },
        "id": "v9Np9_DFOXqS",
        "outputId": "4208028f-811c-4f40-87dd-dc59b5fce794"
      },
      "execution_count": 18,
      "outputs": [
        {
          "output_type": "execute_result",
          "data": {
            "text/plain": [
              "[{'High': 13},\n",
              " {'High': 25},\n",
              " {'High': 31},\n",
              " {'High': 16},\n",
              " {'High': 31},\n",
              " {'High': 32, 'Low': 1},\n",
              " {'High': 3},\n",
              " {'High': 40},\n",
              " {'High': 24},\n",
              " {'High': 7}]"
            ]
          },
          "metadata": {},
          "execution_count": 18
        }
      ]
    },
    {
      "cell_type": "code",
      "source": [
        "def get_word_freq(sentence):\n",
        "\n",
        "  word_freq = []\n",
        "\n",
        "  for word in sentence:\n",
        "    try:\n",
        "      freq = coct_data_dict[word]\n",
        "    except:\n",
        "      freq = 'Unknown'\n",
        "    res = f'{word}({freq})'\n",
        "    word_freq.append(res)\n",
        "\n",
        "  word_freq = ' '.join(word_freq)\n",
        "\n",
        "  return word_freq"
      ],
      "metadata": {
        "id": "SEWyGhvo7HmN"
      },
      "execution_count": 19,
      "outputs": []
    },
    {
      "cell_type": "code",
      "source": [
        "word_freq = [get_word_freq(sentence) for sentence in asbc_test_sent]\n",
        "word_freq[0]"
      ],
      "metadata": {
        "colab": {
          "base_uri": "https://localhost:8080/",
          "height": 53
        },
        "id": "yHPUDkRx8jB5",
        "outputId": "7722a4dd-b23f-48ac-9c11-c0c69d884e71"
      },
      "execution_count": 20,
      "outputs": [
        {
          "output_type": "execute_result",
          "data": {
            "text/plain": [
              "'碰到(15360) 這(2114032) 種(701563) 情形(35199) 真(137497) 是(4642407) 會(1014977) 令(128742) 人(1550512) 又(535555) 氣憤(2937) 又(535555) 苦惱(3892)'"
            ],
            "application/vnd.google.colaboratory.intrinsic+json": {
              "type": "string"
            }
          },
          "metadata": {},
          "execution_count": 20
        }
      ]
    },
    {
      "cell_type": "markdown",
      "source": [
        "## 詞彙等級\n",
        "計算方法：參考國教院詞語分級表，回傳每一個句子中，各級別的詞彙分別有幾個"
      ],
      "metadata": {
        "id": "OrYTuPgcQNLF"
      }
    },
    {
      "cell_type": "code",
      "source": [
        "# 參考國教院詞語分級表\n",
        "naer_word_list = pd.read_excel('data/臺灣華語文能力基準詞語表_111-09-20.xlsx')\n",
        "naer_word_list"
      ],
      "metadata": {
        "colab": {
          "base_uri": "https://localhost:8080/",
          "height": 468
        },
        "id": "2SmUek_WQDZK",
        "outputId": "1f035ee6-337f-470a-d550-09a223c1eaaa"
      },
      "execution_count": 21,
      "outputs": [
        {
          "output_type": "execute_result",
          "data": {
            "text/plain": [
              "          序號    詞語  等別   級別   情境  書面字頻(每百萬字)  口語字頻(每百萬字)  \\\n",
              "0          1     愛  基礎  第1級  核心詞         535         681   \n",
              "1          2     吧  基礎  第1級  核心詞         706         748   \n",
              "2          3     八  基礎  第1級  核心詞         214         163   \n",
              "3          4  爸爸/爸  基礎  第1級  核心詞         226         806   \n",
              "4          5     百  基礎  第1級  核心詞         108          77   \n",
              "...      ...   ...  ..  ...  ...         ...         ...   \n",
              "14462  14463   左右手  精熟  第7級  NaN           3           2   \n",
              "14463  14464    坐鎮  精熟  第7級  NaN           5           2   \n",
              "14464  14465    佐證  精熟  第7級  NaN           5           4   \n",
              "14465  14466    坐姿  精熟  第7級  NaN           5           1   \n",
              "14466  14467    做作  精熟  第7級  NaN           4           0   \n",
              "\n",
              "                                簡編本系統號           參考注音        參考漢語拼音  \n",
              "0                   [['愛', ['39542']]]             ㄞˋ            ài  \n",
              "1               [['吧', ['32', '103']]]            ˙ㄅㄚ            ba  \n",
              "2                       [['八', ['1']]]             ㄅㄚ            bā  \n",
              "3      [['爸爸', ['82']], ['爸', ['81']]]  ㄅㄚˋ ˙ㄅㄚ / ㄅㄚˋ    bàba / bà   \n",
              "4              [['百', ['157', '334']]]            ㄅㄞˇ           bǎi  \n",
              "...                                ...            ...           ...  \n",
              "14462             [['左右手', ['37450']]]   ㄗㄨㄛˇ ㄧㄡˋ ㄕㄡˇ  zuǒ yòu shǒu  \n",
              "14463              [['坐鎮', ['37472']]]       ㄗㄨㄛˋ ㄓㄣˋ      zuò zhèn  \n",
              "14464              [['佐證', ['37456']]]       ㄗㄨㄛˇ ㄓㄥˋ     zuǒ zhèng  \n",
              "14465                               []         ㄗㄨㄛˋ ㄗ        zuò zī  \n",
              "14466              [['做作', ['37565']]]      ㄗㄨㄛˋ ㄗㄨㄛˋ       zuò zuò  \n",
              "\n",
              "[14467 rows x 10 columns]"
            ],
            "text/html": [
              "\n",
              "  <div id=\"df-eac2ae16-098a-4465-b4df-b9e52347ad91\">\n",
              "    <div class=\"colab-df-container\">\n",
              "      <div>\n",
              "<style scoped>\n",
              "    .dataframe tbody tr th:only-of-type {\n",
              "        vertical-align: middle;\n",
              "    }\n",
              "\n",
              "    .dataframe tbody tr th {\n",
              "        vertical-align: top;\n",
              "    }\n",
              "\n",
              "    .dataframe thead th {\n",
              "        text-align: right;\n",
              "    }\n",
              "</style>\n",
              "<table border=\"1\" class=\"dataframe\">\n",
              "  <thead>\n",
              "    <tr style=\"text-align: right;\">\n",
              "      <th></th>\n",
              "      <th>序號</th>\n",
              "      <th>詞語</th>\n",
              "      <th>等別</th>\n",
              "      <th>級別</th>\n",
              "      <th>情境</th>\n",
              "      <th>書面字頻(每百萬字)</th>\n",
              "      <th>口語字頻(每百萬字)</th>\n",
              "      <th>簡編本系統號</th>\n",
              "      <th>參考注音</th>\n",
              "      <th>參考漢語拼音</th>\n",
              "    </tr>\n",
              "  </thead>\n",
              "  <tbody>\n",
              "    <tr>\n",
              "      <th>0</th>\n",
              "      <td>1</td>\n",
              "      <td>愛</td>\n",
              "      <td>基礎</td>\n",
              "      <td>第1級</td>\n",
              "      <td>核心詞</td>\n",
              "      <td>535</td>\n",
              "      <td>681</td>\n",
              "      <td>[['愛', ['39542']]]</td>\n",
              "      <td>ㄞˋ</td>\n",
              "      <td>ài</td>\n",
              "    </tr>\n",
              "    <tr>\n",
              "      <th>1</th>\n",
              "      <td>2</td>\n",
              "      <td>吧</td>\n",
              "      <td>基礎</td>\n",
              "      <td>第1級</td>\n",
              "      <td>核心詞</td>\n",
              "      <td>706</td>\n",
              "      <td>748</td>\n",
              "      <td>[['吧', ['32', '103']]]</td>\n",
              "      <td>˙ㄅㄚ</td>\n",
              "      <td>ba</td>\n",
              "    </tr>\n",
              "    <tr>\n",
              "      <th>2</th>\n",
              "      <td>3</td>\n",
              "      <td>八</td>\n",
              "      <td>基礎</td>\n",
              "      <td>第1級</td>\n",
              "      <td>核心詞</td>\n",
              "      <td>214</td>\n",
              "      <td>163</td>\n",
              "      <td>[['八', ['1']]]</td>\n",
              "      <td>ㄅㄚ</td>\n",
              "      <td>bā</td>\n",
              "    </tr>\n",
              "    <tr>\n",
              "      <th>3</th>\n",
              "      <td>4</td>\n",
              "      <td>爸爸/爸</td>\n",
              "      <td>基礎</td>\n",
              "      <td>第1級</td>\n",
              "      <td>核心詞</td>\n",
              "      <td>226</td>\n",
              "      <td>806</td>\n",
              "      <td>[['爸爸', ['82']], ['爸', ['81']]]</td>\n",
              "      <td>ㄅㄚˋ ˙ㄅㄚ / ㄅㄚˋ</td>\n",
              "      <td>bàba / bà</td>\n",
              "    </tr>\n",
              "    <tr>\n",
              "      <th>4</th>\n",
              "      <td>5</td>\n",
              "      <td>百</td>\n",
              "      <td>基礎</td>\n",
              "      <td>第1級</td>\n",
              "      <td>核心詞</td>\n",
              "      <td>108</td>\n",
              "      <td>77</td>\n",
              "      <td>[['百', ['157', '334']]]</td>\n",
              "      <td>ㄅㄞˇ</td>\n",
              "      <td>bǎi</td>\n",
              "    </tr>\n",
              "    <tr>\n",
              "      <th>...</th>\n",
              "      <td>...</td>\n",
              "      <td>...</td>\n",
              "      <td>...</td>\n",
              "      <td>...</td>\n",
              "      <td>...</td>\n",
              "      <td>...</td>\n",
              "      <td>...</td>\n",
              "      <td>...</td>\n",
              "      <td>...</td>\n",
              "      <td>...</td>\n",
              "    </tr>\n",
              "    <tr>\n",
              "      <th>14462</th>\n",
              "      <td>14463</td>\n",
              "      <td>左右手</td>\n",
              "      <td>精熟</td>\n",
              "      <td>第7級</td>\n",
              "      <td>NaN</td>\n",
              "      <td>3</td>\n",
              "      <td>2</td>\n",
              "      <td>[['左右手', ['37450']]]</td>\n",
              "      <td>ㄗㄨㄛˇ ㄧㄡˋ ㄕㄡˇ</td>\n",
              "      <td>zuǒ yòu shǒu</td>\n",
              "    </tr>\n",
              "    <tr>\n",
              "      <th>14463</th>\n",
              "      <td>14464</td>\n",
              "      <td>坐鎮</td>\n",
              "      <td>精熟</td>\n",
              "      <td>第7級</td>\n",
              "      <td>NaN</td>\n",
              "      <td>5</td>\n",
              "      <td>2</td>\n",
              "      <td>[['坐鎮', ['37472']]]</td>\n",
              "      <td>ㄗㄨㄛˋ ㄓㄣˋ</td>\n",
              "      <td>zuò zhèn</td>\n",
              "    </tr>\n",
              "    <tr>\n",
              "      <th>14464</th>\n",
              "      <td>14465</td>\n",
              "      <td>佐證</td>\n",
              "      <td>精熟</td>\n",
              "      <td>第7級</td>\n",
              "      <td>NaN</td>\n",
              "      <td>5</td>\n",
              "      <td>4</td>\n",
              "      <td>[['佐證', ['37456']]]</td>\n",
              "      <td>ㄗㄨㄛˇ ㄓㄥˋ</td>\n",
              "      <td>zuǒ zhèng</td>\n",
              "    </tr>\n",
              "    <tr>\n",
              "      <th>14465</th>\n",
              "      <td>14466</td>\n",
              "      <td>坐姿</td>\n",
              "      <td>精熟</td>\n",
              "      <td>第7級</td>\n",
              "      <td>NaN</td>\n",
              "      <td>5</td>\n",
              "      <td>1</td>\n",
              "      <td>[]</td>\n",
              "      <td>ㄗㄨㄛˋ ㄗ</td>\n",
              "      <td>zuò zī</td>\n",
              "    </tr>\n",
              "    <tr>\n",
              "      <th>14466</th>\n",
              "      <td>14467</td>\n",
              "      <td>做作</td>\n",
              "      <td>精熟</td>\n",
              "      <td>第7級</td>\n",
              "      <td>NaN</td>\n",
              "      <td>4</td>\n",
              "      <td>0</td>\n",
              "      <td>[['做作', ['37565']]]</td>\n",
              "      <td>ㄗㄨㄛˋ ㄗㄨㄛˋ</td>\n",
              "      <td>zuò zuò</td>\n",
              "    </tr>\n",
              "  </tbody>\n",
              "</table>\n",
              "<p>14467 rows × 10 columns</p>\n",
              "</div>\n",
              "      <button class=\"colab-df-convert\" onclick=\"convertToInteractive('df-eac2ae16-098a-4465-b4df-b9e52347ad91')\"\n",
              "              title=\"Convert this dataframe to an interactive table.\"\n",
              "              style=\"display:none;\">\n",
              "        \n",
              "  <svg xmlns=\"http://www.w3.org/2000/svg\" height=\"24px\"viewBox=\"0 0 24 24\"\n",
              "       width=\"24px\">\n",
              "    <path d=\"M0 0h24v24H0V0z\" fill=\"none\"/>\n",
              "    <path d=\"M18.56 5.44l.94 2.06.94-2.06 2.06-.94-2.06-.94-.94-2.06-.94 2.06-2.06.94zm-11 1L8.5 8.5l.94-2.06 2.06-.94-2.06-.94L8.5 2.5l-.94 2.06-2.06.94zm10 10l.94 2.06.94-2.06 2.06-.94-2.06-.94-.94-2.06-.94 2.06-2.06.94z\"/><path d=\"M17.41 7.96l-1.37-1.37c-.4-.4-.92-.59-1.43-.59-.52 0-1.04.2-1.43.59L10.3 9.45l-7.72 7.72c-.78.78-.78 2.05 0 2.83L4 21.41c.39.39.9.59 1.41.59.51 0 1.02-.2 1.41-.59l7.78-7.78 2.81-2.81c.8-.78.8-2.07 0-2.86zM5.41 20L4 18.59l7.72-7.72 1.47 1.35L5.41 20z\"/>\n",
              "  </svg>\n",
              "      </button>\n",
              "      \n",
              "  <style>\n",
              "    .colab-df-container {\n",
              "      display:flex;\n",
              "      flex-wrap:wrap;\n",
              "      gap: 12px;\n",
              "    }\n",
              "\n",
              "    .colab-df-convert {\n",
              "      background-color: #E8F0FE;\n",
              "      border: none;\n",
              "      border-radius: 50%;\n",
              "      cursor: pointer;\n",
              "      display: none;\n",
              "      fill: #1967D2;\n",
              "      height: 32px;\n",
              "      padding: 0 0 0 0;\n",
              "      width: 32px;\n",
              "    }\n",
              "\n",
              "    .colab-df-convert:hover {\n",
              "      background-color: #E2EBFA;\n",
              "      box-shadow: 0px 1px 2px rgba(60, 64, 67, 0.3), 0px 1px 3px 1px rgba(60, 64, 67, 0.15);\n",
              "      fill: #174EA6;\n",
              "    }\n",
              "\n",
              "    [theme=dark] .colab-df-convert {\n",
              "      background-color: #3B4455;\n",
              "      fill: #D2E3FC;\n",
              "    }\n",
              "\n",
              "    [theme=dark] .colab-df-convert:hover {\n",
              "      background-color: #434B5C;\n",
              "      box-shadow: 0px 1px 3px 1px rgba(0, 0, 0, 0.15);\n",
              "      filter: drop-shadow(0px 1px 2px rgba(0, 0, 0, 0.3));\n",
              "      fill: #FFFFFF;\n",
              "    }\n",
              "  </style>\n",
              "\n",
              "      <script>\n",
              "        const buttonEl =\n",
              "          document.querySelector('#df-eac2ae16-098a-4465-b4df-b9e52347ad91 button.colab-df-convert');\n",
              "        buttonEl.style.display =\n",
              "          google.colab.kernel.accessAllowed ? 'block' : 'none';\n",
              "\n",
              "        async function convertToInteractive(key) {\n",
              "          const element = document.querySelector('#df-eac2ae16-098a-4465-b4df-b9e52347ad91');\n",
              "          const dataTable =\n",
              "            await google.colab.kernel.invokeFunction('convertToInteractive',\n",
              "                                                     [key], {});\n",
              "          if (!dataTable) return;\n",
              "\n",
              "          const docLinkHtml = 'Like what you see? Visit the ' +\n",
              "            '<a target=\"_blank\" href=https://colab.research.google.com/notebooks/data_table.ipynb>data table notebook</a>'\n",
              "            + ' to learn more about interactive tables.';\n",
              "          element.innerHTML = '';\n",
              "          dataTable['output_type'] = 'display_data';\n",
              "          await google.colab.output.renderOutput(dataTable, element);\n",
              "          const docLink = document.createElement('div');\n",
              "          docLink.innerHTML = docLinkHtml;\n",
              "          element.appendChild(docLink);\n",
              "        }\n",
              "      </script>\n",
              "    </div>\n",
              "  </div>\n",
              "  "
            ]
          },
          "metadata": {},
          "execution_count": 21
        }
      ]
    },
    {
      "cell_type": "code",
      "source": [
        "naer_word_list = naer_word_list.assign(word_1=naer_word_list['詞語'].str.split('/')).explode('詞語')\n",
        "naer_word_list = naer_word_list.explode('word_1') # 把用 / 連接的詞語切開做成新的一列\n",
        "naer_word_list"
      ],
      "metadata": {
        "colab": {
          "base_uri": "https://localhost:8080/",
          "height": 659
        },
        "id": "WiTpkuzUQPcF",
        "outputId": "1c69dbf5-ee7e-448b-f896-983c35759cf6"
      },
      "execution_count": 22,
      "outputs": [
        {
          "output_type": "execute_result",
          "data": {
            "text/plain": [
              "          序號    詞語  等別   級別   情境  書面字頻(每百萬字)  口語字頻(每百萬字)  \\\n",
              "0          1     愛  基礎  第1級  核心詞         535         681   \n",
              "1          2     吧  基礎  第1級  核心詞         706         748   \n",
              "2          3     八  基礎  第1級  核心詞         214         163   \n",
              "3          4  爸爸/爸  基礎  第1級  核心詞         226         806   \n",
              "3          4  爸爸/爸  基礎  第1級  核心詞         226         806   \n",
              "...      ...   ...  ..  ...  ...         ...         ...   \n",
              "14462  14463   左右手  精熟  第7級  NaN           3           2   \n",
              "14463  14464    坐鎮  精熟  第7級  NaN           5           2   \n",
              "14464  14465    佐證  精熟  第7級  NaN           5           4   \n",
              "14465  14466    坐姿  精熟  第7級  NaN           5           1   \n",
              "14466  14467    做作  精熟  第7級  NaN           4           0   \n",
              "\n",
              "                                簡編本系統號           參考注音        參考漢語拼音 word_1  \n",
              "0                   [['愛', ['39542']]]             ㄞˋ            ài      愛  \n",
              "1               [['吧', ['32', '103']]]            ˙ㄅㄚ            ba      吧  \n",
              "2                       [['八', ['1']]]             ㄅㄚ            bā      八  \n",
              "3      [['爸爸', ['82']], ['爸', ['81']]]  ㄅㄚˋ ˙ㄅㄚ / ㄅㄚˋ    bàba / bà      爸爸  \n",
              "3      [['爸爸', ['82']], ['爸', ['81']]]  ㄅㄚˋ ˙ㄅㄚ / ㄅㄚˋ    bàba / bà       爸  \n",
              "...                                ...            ...           ...    ...  \n",
              "14462             [['左右手', ['37450']]]   ㄗㄨㄛˇ ㄧㄡˋ ㄕㄡˇ  zuǒ yòu shǒu    左右手  \n",
              "14463              [['坐鎮', ['37472']]]       ㄗㄨㄛˋ ㄓㄣˋ      zuò zhèn     坐鎮  \n",
              "14464              [['佐證', ['37456']]]       ㄗㄨㄛˇ ㄓㄥˋ     zuǒ zhèng     佐證  \n",
              "14465                               []         ㄗㄨㄛˋ ㄗ        zuò zī     坐姿  \n",
              "14466              [['做作', ['37565']]]      ㄗㄨㄛˋ ㄗㄨㄛˋ       zuò zuò     做作  \n",
              "\n",
              "[14858 rows x 11 columns]"
            ],
            "text/html": [
              "\n",
              "  <div id=\"df-200117e4-d2ef-4b32-b558-0ca97f374661\">\n",
              "    <div class=\"colab-df-container\">\n",
              "      <div>\n",
              "<style scoped>\n",
              "    .dataframe tbody tr th:only-of-type {\n",
              "        vertical-align: middle;\n",
              "    }\n",
              "\n",
              "    .dataframe tbody tr th {\n",
              "        vertical-align: top;\n",
              "    }\n",
              "\n",
              "    .dataframe thead th {\n",
              "        text-align: right;\n",
              "    }\n",
              "</style>\n",
              "<table border=\"1\" class=\"dataframe\">\n",
              "  <thead>\n",
              "    <tr style=\"text-align: right;\">\n",
              "      <th></th>\n",
              "      <th>序號</th>\n",
              "      <th>詞語</th>\n",
              "      <th>等別</th>\n",
              "      <th>級別</th>\n",
              "      <th>情境</th>\n",
              "      <th>書面字頻(每百萬字)</th>\n",
              "      <th>口語字頻(每百萬字)</th>\n",
              "      <th>簡編本系統號</th>\n",
              "      <th>參考注音</th>\n",
              "      <th>參考漢語拼音</th>\n",
              "      <th>word_1</th>\n",
              "    </tr>\n",
              "  </thead>\n",
              "  <tbody>\n",
              "    <tr>\n",
              "      <th>0</th>\n",
              "      <td>1</td>\n",
              "      <td>愛</td>\n",
              "      <td>基礎</td>\n",
              "      <td>第1級</td>\n",
              "      <td>核心詞</td>\n",
              "      <td>535</td>\n",
              "      <td>681</td>\n",
              "      <td>[['愛', ['39542']]]</td>\n",
              "      <td>ㄞˋ</td>\n",
              "      <td>ài</td>\n",
              "      <td>愛</td>\n",
              "    </tr>\n",
              "    <tr>\n",
              "      <th>1</th>\n",
              "      <td>2</td>\n",
              "      <td>吧</td>\n",
              "      <td>基礎</td>\n",
              "      <td>第1級</td>\n",
              "      <td>核心詞</td>\n",
              "      <td>706</td>\n",
              "      <td>748</td>\n",
              "      <td>[['吧', ['32', '103']]]</td>\n",
              "      <td>˙ㄅㄚ</td>\n",
              "      <td>ba</td>\n",
              "      <td>吧</td>\n",
              "    </tr>\n",
              "    <tr>\n",
              "      <th>2</th>\n",
              "      <td>3</td>\n",
              "      <td>八</td>\n",
              "      <td>基礎</td>\n",
              "      <td>第1級</td>\n",
              "      <td>核心詞</td>\n",
              "      <td>214</td>\n",
              "      <td>163</td>\n",
              "      <td>[['八', ['1']]]</td>\n",
              "      <td>ㄅㄚ</td>\n",
              "      <td>bā</td>\n",
              "      <td>八</td>\n",
              "    </tr>\n",
              "    <tr>\n",
              "      <th>3</th>\n",
              "      <td>4</td>\n",
              "      <td>爸爸/爸</td>\n",
              "      <td>基礎</td>\n",
              "      <td>第1級</td>\n",
              "      <td>核心詞</td>\n",
              "      <td>226</td>\n",
              "      <td>806</td>\n",
              "      <td>[['爸爸', ['82']], ['爸', ['81']]]</td>\n",
              "      <td>ㄅㄚˋ ˙ㄅㄚ / ㄅㄚˋ</td>\n",
              "      <td>bàba / bà</td>\n",
              "      <td>爸爸</td>\n",
              "    </tr>\n",
              "    <tr>\n",
              "      <th>3</th>\n",
              "      <td>4</td>\n",
              "      <td>爸爸/爸</td>\n",
              "      <td>基礎</td>\n",
              "      <td>第1級</td>\n",
              "      <td>核心詞</td>\n",
              "      <td>226</td>\n",
              "      <td>806</td>\n",
              "      <td>[['爸爸', ['82']], ['爸', ['81']]]</td>\n",
              "      <td>ㄅㄚˋ ˙ㄅㄚ / ㄅㄚˋ</td>\n",
              "      <td>bàba / bà</td>\n",
              "      <td>爸</td>\n",
              "    </tr>\n",
              "    <tr>\n",
              "      <th>...</th>\n",
              "      <td>...</td>\n",
              "      <td>...</td>\n",
              "      <td>...</td>\n",
              "      <td>...</td>\n",
              "      <td>...</td>\n",
              "      <td>...</td>\n",
              "      <td>...</td>\n",
              "      <td>...</td>\n",
              "      <td>...</td>\n",
              "      <td>...</td>\n",
              "      <td>...</td>\n",
              "    </tr>\n",
              "    <tr>\n",
              "      <th>14462</th>\n",
              "      <td>14463</td>\n",
              "      <td>左右手</td>\n",
              "      <td>精熟</td>\n",
              "      <td>第7級</td>\n",
              "      <td>NaN</td>\n",
              "      <td>3</td>\n",
              "      <td>2</td>\n",
              "      <td>[['左右手', ['37450']]]</td>\n",
              "      <td>ㄗㄨㄛˇ ㄧㄡˋ ㄕㄡˇ</td>\n",
              "      <td>zuǒ yòu shǒu</td>\n",
              "      <td>左右手</td>\n",
              "    </tr>\n",
              "    <tr>\n",
              "      <th>14463</th>\n",
              "      <td>14464</td>\n",
              "      <td>坐鎮</td>\n",
              "      <td>精熟</td>\n",
              "      <td>第7級</td>\n",
              "      <td>NaN</td>\n",
              "      <td>5</td>\n",
              "      <td>2</td>\n",
              "      <td>[['坐鎮', ['37472']]]</td>\n",
              "      <td>ㄗㄨㄛˋ ㄓㄣˋ</td>\n",
              "      <td>zuò zhèn</td>\n",
              "      <td>坐鎮</td>\n",
              "    </tr>\n",
              "    <tr>\n",
              "      <th>14464</th>\n",
              "      <td>14465</td>\n",
              "      <td>佐證</td>\n",
              "      <td>精熟</td>\n",
              "      <td>第7級</td>\n",
              "      <td>NaN</td>\n",
              "      <td>5</td>\n",
              "      <td>4</td>\n",
              "      <td>[['佐證', ['37456']]]</td>\n",
              "      <td>ㄗㄨㄛˇ ㄓㄥˋ</td>\n",
              "      <td>zuǒ zhèng</td>\n",
              "      <td>佐證</td>\n",
              "    </tr>\n",
              "    <tr>\n",
              "      <th>14465</th>\n",
              "      <td>14466</td>\n",
              "      <td>坐姿</td>\n",
              "      <td>精熟</td>\n",
              "      <td>第7級</td>\n",
              "      <td>NaN</td>\n",
              "      <td>5</td>\n",
              "      <td>1</td>\n",
              "      <td>[]</td>\n",
              "      <td>ㄗㄨㄛˋ ㄗ</td>\n",
              "      <td>zuò zī</td>\n",
              "      <td>坐姿</td>\n",
              "    </tr>\n",
              "    <tr>\n",
              "      <th>14466</th>\n",
              "      <td>14467</td>\n",
              "      <td>做作</td>\n",
              "      <td>精熟</td>\n",
              "      <td>第7級</td>\n",
              "      <td>NaN</td>\n",
              "      <td>4</td>\n",
              "      <td>0</td>\n",
              "      <td>[['做作', ['37565']]]</td>\n",
              "      <td>ㄗㄨㄛˋ ㄗㄨㄛˋ</td>\n",
              "      <td>zuò zuò</td>\n",
              "      <td>做作</td>\n",
              "    </tr>\n",
              "  </tbody>\n",
              "</table>\n",
              "<p>14858 rows × 11 columns</p>\n",
              "</div>\n",
              "      <button class=\"colab-df-convert\" onclick=\"convertToInteractive('df-200117e4-d2ef-4b32-b558-0ca97f374661')\"\n",
              "              title=\"Convert this dataframe to an interactive table.\"\n",
              "              style=\"display:none;\">\n",
              "        \n",
              "  <svg xmlns=\"http://www.w3.org/2000/svg\" height=\"24px\"viewBox=\"0 0 24 24\"\n",
              "       width=\"24px\">\n",
              "    <path d=\"M0 0h24v24H0V0z\" fill=\"none\"/>\n",
              "    <path d=\"M18.56 5.44l.94 2.06.94-2.06 2.06-.94-2.06-.94-.94-2.06-.94 2.06-2.06.94zm-11 1L8.5 8.5l.94-2.06 2.06-.94-2.06-.94L8.5 2.5l-.94 2.06-2.06.94zm10 10l.94 2.06.94-2.06 2.06-.94-2.06-.94-.94-2.06-.94 2.06-2.06.94z\"/><path d=\"M17.41 7.96l-1.37-1.37c-.4-.4-.92-.59-1.43-.59-.52 0-1.04.2-1.43.59L10.3 9.45l-7.72 7.72c-.78.78-.78 2.05 0 2.83L4 21.41c.39.39.9.59 1.41.59.51 0 1.02-.2 1.41-.59l7.78-7.78 2.81-2.81c.8-.78.8-2.07 0-2.86zM5.41 20L4 18.59l7.72-7.72 1.47 1.35L5.41 20z\"/>\n",
              "  </svg>\n",
              "      </button>\n",
              "      \n",
              "  <style>\n",
              "    .colab-df-container {\n",
              "      display:flex;\n",
              "      flex-wrap:wrap;\n",
              "      gap: 12px;\n",
              "    }\n",
              "\n",
              "    .colab-df-convert {\n",
              "      background-color: #E8F0FE;\n",
              "      border: none;\n",
              "      border-radius: 50%;\n",
              "      cursor: pointer;\n",
              "      display: none;\n",
              "      fill: #1967D2;\n",
              "      height: 32px;\n",
              "      padding: 0 0 0 0;\n",
              "      width: 32px;\n",
              "    }\n",
              "\n",
              "    .colab-df-convert:hover {\n",
              "      background-color: #E2EBFA;\n",
              "      box-shadow: 0px 1px 2px rgba(60, 64, 67, 0.3), 0px 1px 3px 1px rgba(60, 64, 67, 0.15);\n",
              "      fill: #174EA6;\n",
              "    }\n",
              "\n",
              "    [theme=dark] .colab-df-convert {\n",
              "      background-color: #3B4455;\n",
              "      fill: #D2E3FC;\n",
              "    }\n",
              "\n",
              "    [theme=dark] .colab-df-convert:hover {\n",
              "      background-color: #434B5C;\n",
              "      box-shadow: 0px 1px 3px 1px rgba(0, 0, 0, 0.15);\n",
              "      filter: drop-shadow(0px 1px 2px rgba(0, 0, 0, 0.3));\n",
              "      fill: #FFFFFF;\n",
              "    }\n",
              "  </style>\n",
              "\n",
              "      <script>\n",
              "        const buttonEl =\n",
              "          document.querySelector('#df-200117e4-d2ef-4b32-b558-0ca97f374661 button.colab-df-convert');\n",
              "        buttonEl.style.display =\n",
              "          google.colab.kernel.accessAllowed ? 'block' : 'none';\n",
              "\n",
              "        async function convertToInteractive(key) {\n",
              "          const element = document.querySelector('#df-200117e4-d2ef-4b32-b558-0ca97f374661');\n",
              "          const dataTable =\n",
              "            await google.colab.kernel.invokeFunction('convertToInteractive',\n",
              "                                                     [key], {});\n",
              "          if (!dataTable) return;\n",
              "\n",
              "          const docLinkHtml = 'Like what you see? Visit the ' +\n",
              "            '<a target=\"_blank\" href=https://colab.research.google.com/notebooks/data_table.ipynb>data table notebook</a>'\n",
              "            + ' to learn more about interactive tables.';\n",
              "          element.innerHTML = '';\n",
              "          dataTable['output_type'] = 'display_data';\n",
              "          await google.colab.output.renderOutput(dataTable, element);\n",
              "          const docLink = document.createElement('div');\n",
              "          docLink.innerHTML = docLinkHtml;\n",
              "          element.appendChild(docLink);\n",
              "        }\n",
              "      </script>\n",
              "    </div>\n",
              "  </div>\n",
              "  "
            ]
          },
          "metadata": {},
          "execution_count": 22
        }
      ]
    },
    {
      "cell_type": "code",
      "source": [
        "levels = naer_word_list['級別'].values\n",
        "word_level_dict = pd.Series(levels, index=naer_word_list['word_1']).to_dict()"
      ],
      "metadata": {
        "id": "d3yZ2tYfQWRC"
      },
      "execution_count": 23,
      "outputs": []
    },
    {
      "cell_type": "code",
      "source": [
        "def get_word_level(sentence):\n",
        "\n",
        "  levels = []\n",
        "  for word in sentence:\n",
        "    try:\n",
        "      level = word_level_dict[word]\n",
        "    except:\n",
        "      level = 'Unknown' # 如果找不到該詞彙，級別設為 Unknown\n",
        "    levels.append(level)\n",
        "  \n",
        "  return dict(Counter(levels))"
      ],
      "metadata": {
        "id": "r8j6pz1pQfn0"
      },
      "execution_count": 24,
      "outputs": []
    },
    {
      "cell_type": "code",
      "source": [
        "word_level = [get_word_level(sentence) for sentence in asbc_test_sent]\n",
        "word_level[0]"
      ],
      "metadata": {
        "colab": {
          "base_uri": "https://localhost:8080/"
        },
        "id": "o11_8UOBQjnu",
        "outputId": "ac1f54aa-99b1-4062-d73c-dd9d3d5f7fee"
      },
      "execution_count": 25,
      "outputs": [
        {
          "output_type": "execute_result",
          "data": {
            "text/plain": [
              "{'第4級': 1, '第1級': 3, 'Unknown': 1, '第3*級': 1, '第1*級': 4, '第5級': 2, '第6級': 1}"
            ]
          },
          "metadata": {},
          "execution_count": 25
        }
      ]
    },
    {
      "cell_type": "markdown",
      "source": [
        "## 詞彙長度\n",
        "計算方法：算出每一個句子中有幾個「長度大於三個字」的詞彙"
      ],
      "metadata": {
        "id": "I_EorbSMQrIB"
      }
    },
    {
      "cell_type": "code",
      "source": [
        "def get_long_word_count(sentence):\n",
        "\n",
        "  long_word_count = 0\n",
        "  for word in sentence:\n",
        "    if len(word) >= 3:\n",
        "      long_word_count += 1\n",
        "  \n",
        "  return long_word_count"
      ],
      "metadata": {
        "id": "fMRT6PhXQnbM"
      },
      "execution_count": 26,
      "outputs": []
    },
    {
      "cell_type": "code",
      "source": [
        "long_word_count = [get_long_word_count(sentence) for sentence in asbc_test_sent] # 算出該句子有幾個「長度大於三個字」的詞彙\n",
        "long_word_count[:10]"
      ],
      "metadata": {
        "colab": {
          "base_uri": "https://localhost:8080/"
        },
        "id": "9no59wMmQtTG",
        "outputId": "6070d528-1e47-4136-84ff-516f74d89103"
      },
      "execution_count": 27,
      "outputs": [
        {
          "output_type": "execute_result",
          "data": {
            "text/plain": [
              "[0, 2, 1, 1, 0, 1, 1, 1, 0, 0]"
            ]
          },
          "metadata": {},
          "execution_count": 27
        }
      ]
    },
    {
      "cell_type": "markdown",
      "source": [
        "## 完整的句子\n",
        "計算方法：\n",
        "1. 以。？！結尾\n",
        "1. 至少含有一個動詞"
      ],
      "metadata": {
        "id": "ao8ltqwiQ9Es"
      }
    },
    {
      "cell_type": "code",
      "source": [
        "# verb_list = ['VA', 'VAC', 'VB', 'VC', 'VCL', 'VD', 'VE', \n",
        "#              'VF', 'VG', 'VH', 'VHC', 'VI', 'VJ', 'VK', \n",
        "#              'VL', 'V_2']\n",
        "# verb_list = [f'({x})' for x in verb_list]\n",
        "# verb_list"
      ],
      "metadata": {
        "id": "2x8QagS_xIjQ"
      },
      "execution_count": 28,
      "outputs": []
    },
    {
      "cell_type": "code",
      "source": [
        "def get_complete_sentence(sentence):\n",
        "\n",
        "  if re.search(r'。|？|！', sentence) and 'V' in sentence:\n",
        "    res = 'Y'\n",
        "  else:\n",
        "    res = 'N'\n",
        "\n",
        "  return res"
      ],
      "metadata": {
        "id": "1-lUPYZktvXv"
      },
      "execution_count": 29,
      "outputs": []
    },
    {
      "cell_type": "code",
      "source": [
        "is_complete_sentence = [get_complete_sentence(sentence) for sentence in asbc_test]\n",
        "is_complete_sentence[:10]"
      ],
      "metadata": {
        "colab": {
          "base_uri": "https://localhost:8080/"
        },
        "id": "rJ8S8tp6zIFD",
        "outputId": "1ec110d5-bd9d-4f27-cf9d-38979c2e074a"
      },
      "execution_count": 30,
      "outputs": [
        {
          "output_type": "execute_result",
          "data": {
            "text/plain": [
              "['Y', 'Y', 'Y', 'Y', 'Y', 'Y', 'Y', 'Y', 'Y', 'Y']"
            ]
          },
          "metadata": {},
          "execution_count": 30
        }
      ]
    },
    {
      "cell_type": "markdown",
      "source": [
        "## 完整的語境\n",
        "計算方法：\n",
        "1. 用 `Caa` `Cab` `Cba` `Cbb` 判定"
      ],
      "metadata": {
        "id": "huB4XgmAzbz0"
      }
    },
    {
      "cell_type": "code",
      "source": [
        "def get_complete_context(sentence):\n",
        "\n",
        "  if re.search(r'Caa|Cab|Cba|Cbb', sentence):\n",
        "    res = 'Y'\n",
        "  else:\n",
        "    res = 'N'\n",
        "\n",
        "  return res"
      ],
      "metadata": {
        "id": "XXDYhkdn0ddv"
      },
      "execution_count": 31,
      "outputs": []
    },
    {
      "cell_type": "code",
      "source": [
        "is_complete_context = [get_complete_context(x) for x in asbc_test]\n",
        "is_complete_context[:10]"
      ],
      "metadata": {
        "colab": {
          "base_uri": "https://localhost:8080/"
        },
        "id": "-8knDSE71pnQ",
        "outputId": "ba1deb48-679c-459e-ef11-ab48ebefa1c5"
      },
      "execution_count": 32,
      "outputs": [
        {
          "output_type": "execute_result",
          "data": {
            "text/plain": [
              "['Y', 'Y', 'Y', 'N', 'Y', 'Y', 'N', 'Y', 'N', 'N']"
            ]
          },
          "metadata": {},
          "execution_count": 32
        }
      ]
    },
    {
      "cell_type": "markdown",
      "source": [
        "## Black List\n",
        "計算方法：判斷是否包含\n",
        "1. 連續八個以上數字或數詞\n",
        "1. 十個以上包含 `.` 的非中文字串 (網址)"
      ],
      "metadata": {
        "id": "6p8u_l6M9o9l"
      }
    },
    {
      "cell_type": "code",
      "source": [
        "def get_blacklist(sentence):\n",
        "\n",
        "  chinese_num_upper = r'[零壹貳參肆伍陸柒捌玖拾佰仟]{8}'\n",
        "  chinese_num_lower = r'[○一二三四五六七八九十廿百千]{8}' \n",
        "  url = r'(www|http|ftp|https)://([\\w_-]+(?:(?:\\.[\\w_-]+)+))([\\w.,@?^=%&:/~+#-]*[\\w@?^=%&/~+#-])?'\n",
        "\n",
        "  check_chinese_num_upper = re.search(chinese_num_upper, sentence)\n",
        "  check_chinese_num_lower = re.search(chinese_num_lower, sentence)\n",
        "  check_digit = re.search(r'[0-9]{8}', sentence)\n",
        "  check_url = re.search(url, sentence)\n",
        "\n",
        "  if check_chinese_num_upper or check_chinese_num_lower or check_digit or check_url:\n",
        "    res = 'Y'\n",
        "  else:\n",
        "    res = 'N'\n",
        "\n",
        "  return res"
      ],
      "metadata": {
        "id": "9ZxYb_zWBkDm"
      },
      "execution_count": 33,
      "outputs": []
    },
    {
      "cell_type": "code",
      "source": [
        "is_blacklist = [get_blacklist(x) for x in asbc_test_text]\n",
        "is_blacklist[:10]"
      ],
      "metadata": {
        "colab": {
          "base_uri": "https://localhost:8080/"
        },
        "id": "nvfxW3K8Cg_7",
        "outputId": "fb4e24d8-9b0f-435f-a653-b76292200234"
      },
      "execution_count": 34,
      "outputs": [
        {
          "output_type": "execute_result",
          "data": {
            "text/plain": [
              "['N', 'N', 'N', 'N', 'N', 'N', 'N', 'N', 'N', 'N']"
            ]
          },
          "metadata": {},
          "execution_count": 34
        }
      ]
    },
    {
      "cell_type": "markdown",
      "source": [
        "## Grey List\n",
        "\n",
        "計算方法：含有 `Nb` 的句子"
      ],
      "metadata": {
        "id": "3xpuBYmJDjdK"
      }
    },
    {
      "cell_type": "code",
      "source": [
        "def get_greylist(sentence):\n",
        "\n",
        "  if re.search(r'Nb', sentence):\n",
        "    res = 'Y'\n",
        "  else:\n",
        "    res = 'N'\n",
        "\n",
        "  return res"
      ],
      "metadata": {
        "id": "FvL7ZiiP-WJW"
      },
      "execution_count": 35,
      "outputs": []
    },
    {
      "cell_type": "code",
      "source": [
        "is_greylist = [get_greylist(x) for x in asbc_test]\n",
        "is_greylist[:10] "
      ],
      "metadata": {
        "colab": {
          "base_uri": "https://localhost:8080/"
        },
        "id": "rg4bYiazEDk6",
        "outputId": "e447e689-0a39-40d0-895f-dbd113ac7646"
      },
      "execution_count": 36,
      "outputs": [
        {
          "output_type": "execute_result",
          "data": {
            "text/plain": [
              "['N', 'N', 'N', 'N', 'N', 'N', 'N', 'N', 'N', 'N']"
            ]
          },
          "metadata": {},
          "execution_count": 36
        }
      ]
    },
    {
      "cell_type": "code",
      "source": [
        "asbc_test[17]"
      ],
      "metadata": {
        "colab": {
          "base_uri": "https://localhost:8080/",
          "height": 71
        },
        "id": "5XKTMW4Y9TvA",
        "outputId": "7f7f7732-9dd7-4a72-d10c-809b788af6e5"
      },
      "execution_count": 37,
      "outputs": [
        {
          "output_type": "execute_result",
          "data": {
            "text/plain": [
              "'小燕(Nb) 讀者(Na) ：你(Nh) 在(P) 來信(Na) 中(Ng) 提到(VE) 父親(Na) 常(D) 發脾氣(VA) ，或許(D) 和(P) 他(Nh) 從小(D) 沒有(VJ) 父母(Na) ，兄弟(Na) 之間(Ng) 感情(Na) 淡薄(VH) 有關(VJ) ，往往(D) 一(D) 發起(VC) 脾氣(Na) 來(T) 就(D) 數落(VC) 媽媽(Na) 的(DE) 不是(Na) ，亂(VH) 摔(VC) 東西(Na) 。'"
            ],
            "application/vnd.google.colaboratory.intrinsic+json": {
              "type": "string"
            }
          },
          "metadata": {},
          "execution_count": 37
        }
      ]
    },
    {
      "cell_type": "code",
      "source": [
        "asbc_df = pd.DataFrame({'sentence': asbc_test_text,\n",
        "                        'sentence_preprocessed': [' '.join(sent) for sent in asbc_test_sent],\n",
        "                        'sentence_length': sentence_length,\n",
        "                        'word_freq': word_freq,\n",
        "                        'high_low_freq': high_low_freq,\n",
        "                        'word_level': word_level,\n",
        "                        'long_word_count': long_word_count,\n",
        "                        'is_complete_sentence': is_complete_sentence,\n",
        "                        'is_complete_context': is_complete_context,\n",
        "                        'is_blacklist': is_blacklist,\n",
        "                        'is_greylist': is_greylist})"
      ],
      "metadata": {
        "id": "emqAEPmCMKky"
      },
      "execution_count": 38,
      "outputs": []
    },
    {
      "cell_type": "code",
      "source": [
        "asbc_df.to_csv('results/asbc/asbc_parameters_example.csv', index = False)"
      ],
      "metadata": {
        "id": "iqXCB744Ofkc"
      },
      "execution_count": 39,
      "outputs": []
    },
    {
      "cell_type": "markdown",
      "source": [
        "## Concordance"
      ],
      "metadata": {
        "id": "OdN3s2xHH6gO"
      }
    },
    {
      "cell_type": "code",
      "source": [
        "from nltk.text import Text"
      ],
      "metadata": {
        "id": "pKrhoGpVFd9p"
      },
      "execution_count": 40,
      "outputs": []
    },
    {
      "cell_type": "code",
      "source": [
        "target_words = ['難得', '畢竟', '的確', '難免', '總是', '有助於']\n",
        "corpus = [item for sublist in asbc_test_sent for item in sublist]\n",
        "text = Text(corpus)\n",
        "dfs = []\n",
        "\n",
        "for word in target_words:\n",
        "\n",
        "  con_list = text.concordance_list(word)\n",
        "  right_word = [x.right[0] for x in con_list]\n",
        "  left_word = [x.left[-1] for x in con_list]\n",
        "  context = [x.left + [word] + x.right for x in con_list]\n",
        "  context = [' '.join(x) for x in context]\n",
        "\n",
        "  df = pd.DataFrame({'left_word': left_word,\n",
        "                     'target_word': word,\n",
        "                     'right_word': right_word,\n",
        "                     'context': context})\n",
        "  dfs.append(df)"
      ],
      "metadata": {
        "id": "YM1NxqDfER9m"
      },
      "execution_count": 41,
      "outputs": []
    },
    {
      "cell_type": "code",
      "source": [
        "concordance_df = pd.concat(dfs)\n",
        "concordance_df.to_csv('results/asbc/asbc_concordance_df.csv', index = False)"
      ],
      "metadata": {
        "id": "Bv217BH6LgUD"
      },
      "execution_count": 42,
      "outputs": []
    }
  ]
}